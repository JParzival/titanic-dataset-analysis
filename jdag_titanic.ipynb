{
 "cells": [
  {
   "cell_type": "markdown",
   "metadata": {},
   "source": [
    "Lo primero que debo de hacer es importar el dataset en un dataframe"
   ]
  },
  {
   "cell_type": "code",
   "execution_count": 459,
   "metadata": {},
   "outputs": [],
   "source": [
    "import pandas as pd"
   ]
  },
  {
   "cell_type": "code",
   "execution_count": 460,
   "metadata": {},
   "outputs": [],
   "source": [
    "dataset = pd.read_csv(\"titanic.csv\") "
   ]
  },
  {
   "cell_type": "code",
   "execution_count": 461,
   "metadata": {},
   "outputs": [
    {
     "data": {
      "text/html": [
       "<div>\n",
       "<style scoped>\n",
       "    .dataframe tbody tr th:only-of-type {\n",
       "        vertical-align: middle;\n",
       "    }\n",
       "\n",
       "    .dataframe tbody tr th {\n",
       "        vertical-align: top;\n",
       "    }\n",
       "\n",
       "    .dataframe thead th {\n",
       "        text-align: right;\n",
       "    }\n",
       "</style>\n",
       "<table border=\"1\" class=\"dataframe\">\n",
       "  <thead>\n",
       "    <tr style=\"text-align: right;\">\n",
       "      <th></th>\n",
       "      <th>PassengerId</th>\n",
       "      <th>Survived</th>\n",
       "      <th>Pclass</th>\n",
       "      <th>Name</th>\n",
       "      <th>Sex</th>\n",
       "      <th>Age</th>\n",
       "      <th>SibSp</th>\n",
       "      <th>Parch</th>\n",
       "      <th>Ticket</th>\n",
       "      <th>Fare</th>\n",
       "      <th>Cabin</th>\n",
       "      <th>Embarked</th>\n",
       "    </tr>\n",
       "  </thead>\n",
       "  <tbody>\n",
       "    <tr>\n",
       "      <th>0</th>\n",
       "      <td>1</td>\n",
       "      <td>0</td>\n",
       "      <td>3</td>\n",
       "      <td>Braund, Mr. Owen Harris</td>\n",
       "      <td>male</td>\n",
       "      <td>22.0</td>\n",
       "      <td>1</td>\n",
       "      <td>0</td>\n",
       "      <td>A/5 21171</td>\n",
       "      <td>7.2500</td>\n",
       "      <td>NaN</td>\n",
       "      <td>S</td>\n",
       "    </tr>\n",
       "    <tr>\n",
       "      <th>1</th>\n",
       "      <td>2</td>\n",
       "      <td>1</td>\n",
       "      <td>1</td>\n",
       "      <td>Cumings, Mrs. John Bradley (Florence Briggs Th...</td>\n",
       "      <td>female</td>\n",
       "      <td>38.0</td>\n",
       "      <td>1</td>\n",
       "      <td>0</td>\n",
       "      <td>PC 17599</td>\n",
       "      <td>71.2833</td>\n",
       "      <td>C85</td>\n",
       "      <td>C</td>\n",
       "    </tr>\n",
       "    <tr>\n",
       "      <th>2</th>\n",
       "      <td>3</td>\n",
       "      <td>1</td>\n",
       "      <td>3</td>\n",
       "      <td>Heikkinen, Miss. Laina</td>\n",
       "      <td>female</td>\n",
       "      <td>26.0</td>\n",
       "      <td>0</td>\n",
       "      <td>0</td>\n",
       "      <td>STON/O2. 3101282</td>\n",
       "      <td>7.9250</td>\n",
       "      <td>NaN</td>\n",
       "      <td>S</td>\n",
       "    </tr>\n",
       "  </tbody>\n",
       "</table>\n",
       "</div>"
      ],
      "text/plain": [
       "   PassengerId  Survived  Pclass  \\\n",
       "0            1         0       3   \n",
       "1            2         1       1   \n",
       "2            3         1       3   \n",
       "\n",
       "                                                Name     Sex   Age  SibSp  \\\n",
       "0                            Braund, Mr. Owen Harris    male  22.0      1   \n",
       "1  Cumings, Mrs. John Bradley (Florence Briggs Th...  female  38.0      1   \n",
       "2                             Heikkinen, Miss. Laina  female  26.0      0   \n",
       "\n",
       "   Parch            Ticket     Fare Cabin Embarked  \n",
       "0      0         A/5 21171   7.2500   NaN        S  \n",
       "1      0          PC 17599  71.2833   C85        C  \n",
       "2      0  STON/O2. 3101282   7.9250   NaN        S  "
      ]
     },
     "execution_count": 461,
     "metadata": {},
     "output_type": "execute_result"
    }
   ],
   "source": [
    "# Muestro solo la cabecera para ver si se ha importado bien\n",
    "dataset[:3]"
   ]
  },
  {
   "cell_type": "markdown",
   "metadata": {},
   "source": [
    "Ahora indexo por nombre de pasajero"
   ]
  },
  {
   "cell_type": "code",
   "execution_count": 462,
   "metadata": {},
   "outputs": [
    {
     "data": {
      "text/html": [
       "<div>\n",
       "<style scoped>\n",
       "    .dataframe tbody tr th:only-of-type {\n",
       "        vertical-align: middle;\n",
       "    }\n",
       "\n",
       "    .dataframe tbody tr th {\n",
       "        vertical-align: top;\n",
       "    }\n",
       "\n",
       "    .dataframe thead th {\n",
       "        text-align: right;\n",
       "    }\n",
       "</style>\n",
       "<table border=\"1\" class=\"dataframe\">\n",
       "  <thead>\n",
       "    <tr style=\"text-align: right;\">\n",
       "      <th></th>\n",
       "      <th>PassengerId</th>\n",
       "      <th>Survived</th>\n",
       "      <th>Pclass</th>\n",
       "      <th>Sex</th>\n",
       "      <th>Age</th>\n",
       "      <th>SibSp</th>\n",
       "      <th>Parch</th>\n",
       "      <th>Ticket</th>\n",
       "      <th>Fare</th>\n",
       "      <th>Cabin</th>\n",
       "      <th>Embarked</th>\n",
       "    </tr>\n",
       "    <tr>\n",
       "      <th>Name</th>\n",
       "      <th></th>\n",
       "      <th></th>\n",
       "      <th></th>\n",
       "      <th></th>\n",
       "      <th></th>\n",
       "      <th></th>\n",
       "      <th></th>\n",
       "      <th></th>\n",
       "      <th></th>\n",
       "      <th></th>\n",
       "      <th></th>\n",
       "    </tr>\n",
       "  </thead>\n",
       "  <tbody>\n",
       "    <tr>\n",
       "      <th>Braund, Mr. Owen Harris</th>\n",
       "      <td>1</td>\n",
       "      <td>0</td>\n",
       "      <td>3</td>\n",
       "      <td>male</td>\n",
       "      <td>22.0</td>\n",
       "      <td>1</td>\n",
       "      <td>0</td>\n",
       "      <td>A/5 21171</td>\n",
       "      <td>7.2500</td>\n",
       "      <td>NaN</td>\n",
       "      <td>S</td>\n",
       "    </tr>\n",
       "    <tr>\n",
       "      <th>Cumings, Mrs. John Bradley (Florence Briggs Thayer)</th>\n",
       "      <td>2</td>\n",
       "      <td>1</td>\n",
       "      <td>1</td>\n",
       "      <td>female</td>\n",
       "      <td>38.0</td>\n",
       "      <td>1</td>\n",
       "      <td>0</td>\n",
       "      <td>PC 17599</td>\n",
       "      <td>71.2833</td>\n",
       "      <td>C85</td>\n",
       "      <td>C</td>\n",
       "    </tr>\n",
       "    <tr>\n",
       "      <th>Heikkinen, Miss. Laina</th>\n",
       "      <td>3</td>\n",
       "      <td>1</td>\n",
       "      <td>3</td>\n",
       "      <td>female</td>\n",
       "      <td>26.0</td>\n",
       "      <td>0</td>\n",
       "      <td>0</td>\n",
       "      <td>STON/O2. 3101282</td>\n",
       "      <td>7.9250</td>\n",
       "      <td>NaN</td>\n",
       "      <td>S</td>\n",
       "    </tr>\n",
       "  </tbody>\n",
       "</table>\n",
       "</div>"
      ],
      "text/plain": [
       "                                                    PassengerId  Survived  \\\n",
       "Name                                                                        \n",
       "Braund, Mr. Owen Harris                                       1         0   \n",
       "Cumings, Mrs. John Bradley (Florence Briggs Tha...            2         1   \n",
       "Heikkinen, Miss. Laina                                        3         1   \n",
       "\n",
       "                                                    Pclass     Sex   Age  \\\n",
       "Name                                                                       \n",
       "Braund, Mr. Owen Harris                                  3    male  22.0   \n",
       "Cumings, Mrs. John Bradley (Florence Briggs Tha...       1  female  38.0   \n",
       "Heikkinen, Miss. Laina                                   3  female  26.0   \n",
       "\n",
       "                                                    SibSp  Parch  \\\n",
       "Name                                                               \n",
       "Braund, Mr. Owen Harris                                 1      0   \n",
       "Cumings, Mrs. John Bradley (Florence Briggs Tha...      1      0   \n",
       "Heikkinen, Miss. Laina                                  0      0   \n",
       "\n",
       "                                                              Ticket     Fare  \\\n",
       "Name                                                                            \n",
       "Braund, Mr. Owen Harris                                    A/5 21171   7.2500   \n",
       "Cumings, Mrs. John Bradley (Florence Briggs Tha...          PC 17599  71.2833   \n",
       "Heikkinen, Miss. Laina                              STON/O2. 3101282   7.9250   \n",
       "\n",
       "                                                   Cabin Embarked  \n",
       "Name                                                               \n",
       "Braund, Mr. Owen Harris                              NaN        S  \n",
       "Cumings, Mrs. John Bradley (Florence Briggs Tha...   C85        C  \n",
       "Heikkinen, Miss. Laina                               NaN        S  "
      ]
     },
     "execution_count": 462,
     "metadata": {},
     "output_type": "execute_result"
    }
   ],
   "source": [
    "dataset = dataset.set_index('Name')\n",
    "\n",
    "# Vuelvo a mostrar la cabecera para ver que se está indexando correctamente\n",
    "dataset[:3]"
   ]
  },
  {
   "cell_type": "markdown",
   "metadata": {},
   "source": [
    "El siguiente paso es deletear ticket number y cabina"
   ]
  },
  {
   "cell_type": "code",
   "execution_count": 463,
   "metadata": {},
   "outputs": [
    {
     "data": {
      "text/html": [
       "<div>\n",
       "<style scoped>\n",
       "    .dataframe tbody tr th:only-of-type {\n",
       "        vertical-align: middle;\n",
       "    }\n",
       "\n",
       "    .dataframe tbody tr th {\n",
       "        vertical-align: top;\n",
       "    }\n",
       "\n",
       "    .dataframe thead th {\n",
       "        text-align: right;\n",
       "    }\n",
       "</style>\n",
       "<table border=\"1\" class=\"dataframe\">\n",
       "  <thead>\n",
       "    <tr style=\"text-align: right;\">\n",
       "      <th></th>\n",
       "      <th>PassengerId</th>\n",
       "      <th>Survived</th>\n",
       "      <th>Pclass</th>\n",
       "      <th>Sex</th>\n",
       "      <th>Age</th>\n",
       "      <th>SibSp</th>\n",
       "      <th>Parch</th>\n",
       "      <th>Fare</th>\n",
       "      <th>Embarked</th>\n",
       "    </tr>\n",
       "    <tr>\n",
       "      <th>Name</th>\n",
       "      <th></th>\n",
       "      <th></th>\n",
       "      <th></th>\n",
       "      <th></th>\n",
       "      <th></th>\n",
       "      <th></th>\n",
       "      <th></th>\n",
       "      <th></th>\n",
       "      <th></th>\n",
       "    </tr>\n",
       "  </thead>\n",
       "  <tbody>\n",
       "    <tr>\n",
       "      <th>Braund, Mr. Owen Harris</th>\n",
       "      <td>1</td>\n",
       "      <td>0</td>\n",
       "      <td>3</td>\n",
       "      <td>male</td>\n",
       "      <td>22.0</td>\n",
       "      <td>1</td>\n",
       "      <td>0</td>\n",
       "      <td>7.2500</td>\n",
       "      <td>S</td>\n",
       "    </tr>\n",
       "    <tr>\n",
       "      <th>Cumings, Mrs. John Bradley (Florence Briggs Thayer)</th>\n",
       "      <td>2</td>\n",
       "      <td>1</td>\n",
       "      <td>1</td>\n",
       "      <td>female</td>\n",
       "      <td>38.0</td>\n",
       "      <td>1</td>\n",
       "      <td>0</td>\n",
       "      <td>71.2833</td>\n",
       "      <td>C</td>\n",
       "    </tr>\n",
       "    <tr>\n",
       "      <th>Heikkinen, Miss. Laina</th>\n",
       "      <td>3</td>\n",
       "      <td>1</td>\n",
       "      <td>3</td>\n",
       "      <td>female</td>\n",
       "      <td>26.0</td>\n",
       "      <td>0</td>\n",
       "      <td>0</td>\n",
       "      <td>7.9250</td>\n",
       "      <td>S</td>\n",
       "    </tr>\n",
       "  </tbody>\n",
       "</table>\n",
       "</div>"
      ],
      "text/plain": [
       "                                                    PassengerId  Survived  \\\n",
       "Name                                                                        \n",
       "Braund, Mr. Owen Harris                                       1         0   \n",
       "Cumings, Mrs. John Bradley (Florence Briggs Tha...            2         1   \n",
       "Heikkinen, Miss. Laina                                        3         1   \n",
       "\n",
       "                                                    Pclass     Sex   Age  \\\n",
       "Name                                                                       \n",
       "Braund, Mr. Owen Harris                                  3    male  22.0   \n",
       "Cumings, Mrs. John Bradley (Florence Briggs Tha...       1  female  38.0   \n",
       "Heikkinen, Miss. Laina                                   3  female  26.0   \n",
       "\n",
       "                                                    SibSp  Parch     Fare  \\\n",
       "Name                                                                        \n",
       "Braund, Mr. Owen Harris                                 1      0   7.2500   \n",
       "Cumings, Mrs. John Bradley (Florence Briggs Tha...      1      0  71.2833   \n",
       "Heikkinen, Miss. Laina                                  0      0   7.9250   \n",
       "\n",
       "                                                   Embarked  \n",
       "Name                                                         \n",
       "Braund, Mr. Owen Harris                                   S  \n",
       "Cumings, Mrs. John Bradley (Florence Briggs Tha...        C  \n",
       "Heikkinen, Miss. Laina                                    S  "
      ]
     },
     "execution_count": 463,
     "metadata": {},
     "output_type": "execute_result"
    }
   ],
   "source": [
    "dataset = dataset.drop(columns= ['Ticket', 'Cabin'])\n",
    "\n",
    "# Muestro la parte superior para volver a ver que se ha eliminado\n",
    "\n",
    "dataset[ :3]"
   ]
  },
  {
   "cell_type": "markdown",
   "metadata": {},
   "source": [
    "Siguiente paso: Análisis de columnas nulas y reemplazo de valores"
   ]
  },
  {
   "cell_type": "code",
   "execution_count": 464,
   "metadata": {},
   "outputs": [
    {
     "data": {
      "text/plain": [
       "['Age', 'Embarked']"
      ]
     },
     "execution_count": 464,
     "metadata": {},
     "output_type": "execute_result"
    }
   ],
   "source": [
    "# Se obtienen las columnas que tengan algún NaN, y le pongo el toList para obtenerlo más vistoso\n",
    "dataset.columns[dataset.isna().any()].tolist()"
   ]
  },
  {
   "cell_type": "code",
   "execution_count": 465,
   "metadata": {},
   "outputs": [
    {
     "name": "stdout",
     "output_type": "stream",
     "text": [
      "PassengerId    446.000000\n",
      "Survived         0.383838\n",
      "Pclass           2.308642\n",
      "Age             29.699118\n",
      "SibSp            0.523008\n",
      "Parch            0.381594\n",
      "Fare            32.204208\n",
      "dtype: float64\n"
     ]
    },
    {
     "data": {
      "text/plain": [
       "['Embarked']"
      ]
     },
     "execution_count": 465,
     "metadata": {},
     "output_type": "execute_result"
    }
   ],
   "source": [
    "# Primero obtengo la media de las columnas\n",
    "\n",
    "print(dataset.mean())\n",
    "\n",
    "# Ahora relleno los na con la media\n",
    "\n",
    "dataset = dataset.fillna(dataset.mean())\n",
    "\n",
    "# Ahora compruebo que no quede ningún na con la sentencia del chunk anterior\n",
    "\n",
    "dataset.columns[dataset.isna().any()].tolist()\n",
    "\n",
    "# Como queda la de embarked (normal, es categórica), tengo que rellenarla a mano"
   ]
  },
  {
   "cell_type": "code",
   "execution_count": 466,
   "metadata": {},
   "outputs": [
    {
     "data": {
      "text/html": [
       "<div>\n",
       "<style scoped>\n",
       "    .dataframe tbody tr th:only-of-type {\n",
       "        vertical-align: middle;\n",
       "    }\n",
       "\n",
       "    .dataframe tbody tr th {\n",
       "        vertical-align: top;\n",
       "    }\n",
       "\n",
       "    .dataframe thead th {\n",
       "        text-align: right;\n",
       "    }\n",
       "</style>\n",
       "<table border=\"1\" class=\"dataframe\">\n",
       "  <thead>\n",
       "    <tr style=\"text-align: right;\">\n",
       "      <th></th>\n",
       "      <th>PassengerId</th>\n",
       "      <th>Survived</th>\n",
       "      <th>Pclass</th>\n",
       "      <th>Sex</th>\n",
       "      <th>Age</th>\n",
       "      <th>SibSp</th>\n",
       "      <th>Parch</th>\n",
       "      <th>Fare</th>\n",
       "    </tr>\n",
       "    <tr>\n",
       "      <th>Embarked</th>\n",
       "      <th></th>\n",
       "      <th></th>\n",
       "      <th></th>\n",
       "      <th></th>\n",
       "      <th></th>\n",
       "      <th></th>\n",
       "      <th></th>\n",
       "      <th></th>\n",
       "    </tr>\n",
       "  </thead>\n",
       "  <tbody>\n",
       "    <tr>\n",
       "      <th>C</th>\n",
       "      <td>168</td>\n",
       "      <td>168</td>\n",
       "      <td>168</td>\n",
       "      <td>168</td>\n",
       "      <td>168</td>\n",
       "      <td>168</td>\n",
       "      <td>168</td>\n",
       "      <td>168</td>\n",
       "    </tr>\n",
       "    <tr>\n",
       "      <th>Q</th>\n",
       "      <td>77</td>\n",
       "      <td>77</td>\n",
       "      <td>77</td>\n",
       "      <td>77</td>\n",
       "      <td>77</td>\n",
       "      <td>77</td>\n",
       "      <td>77</td>\n",
       "      <td>77</td>\n",
       "    </tr>\n",
       "    <tr>\n",
       "      <th>S</th>\n",
       "      <td>644</td>\n",
       "      <td>644</td>\n",
       "      <td>644</td>\n",
       "      <td>644</td>\n",
       "      <td>644</td>\n",
       "      <td>644</td>\n",
       "      <td>644</td>\n",
       "      <td>644</td>\n",
       "    </tr>\n",
       "  </tbody>\n",
       "</table>\n",
       "</div>"
      ],
      "text/plain": [
       "          PassengerId  Survived  Pclass  Sex  Age  SibSp  Parch  Fare\n",
       "Embarked                                                             \n",
       "C                 168       168     168  168  168    168    168   168\n",
       "Q                  77        77      77   77   77     77     77    77\n",
       "S                 644       644     644  644  644    644    644   644"
      ]
     },
     "execution_count": 466,
     "metadata": {},
     "output_type": "execute_result"
    }
   ],
   "source": [
    "# Como no tengo el valor, voy a ver la frecuencia con la que embarcaron los pasajeros\n",
    "# de un lado u otro, y le asignaré el de mayor valor para la simplificación del problema\n",
    "\n",
    "dataset.groupby('Embarked').count()"
   ]
  },
  {
   "cell_type": "code",
   "execution_count": 467,
   "metadata": {},
   "outputs": [
    {
     "data": {
      "text/plain": [
       "[]"
      ]
     },
     "execution_count": 467,
     "metadata": {},
     "output_type": "execute_result"
    }
   ],
   "source": [
    "# Como se puede ver, una gran mayoría vienen de Southampton, por lo que asignaré los NaN a allí\n",
    "# Como solo hay NaN en esa columna, puedo usar libremente el método replace\n",
    "\n",
    "import numpy as np\n",
    "\n",
    "dataset = dataset.replace(np.NaN, 'S')\n",
    "\n",
    "# Se comprueba si queda alguna columna con NaN\n",
    "\n",
    "dataset.columns[dataset.isna().any()].tolist()"
   ]
  },
  {
   "cell_type": "code",
   "execution_count": 468,
   "metadata": {},
   "outputs": [],
   "source": [
    "# Como no queda ninguna columna con NaN, puedo proseguir.\n",
    "\n",
    "# Lo que voy a hacer es guardar el DataFrame limpiado como csv por si se quiere utilizar posteriormente\n",
    "\n",
    "dataset.to_csv(\"titanic_limpio.csv\", sep=',')"
   ]
  },
  {
   "cell_type": "markdown",
   "metadata": {},
   "source": [
    "Ahora es importante cambiar todas las variables categoricas a dummy"
   ]
  },
  {
   "cell_type": "code",
   "execution_count": 469,
   "metadata": {},
   "outputs": [
    {
     "data": {
      "text/html": [
       "<div>\n",
       "<style scoped>\n",
       "    .dataframe tbody tr th:only-of-type {\n",
       "        vertical-align: middle;\n",
       "    }\n",
       "\n",
       "    .dataframe tbody tr th {\n",
       "        vertical-align: top;\n",
       "    }\n",
       "\n",
       "    .dataframe thead th {\n",
       "        text-align: right;\n",
       "    }\n",
       "</style>\n",
       "<table border=\"1\" class=\"dataframe\">\n",
       "  <thead>\n",
       "    <tr style=\"text-align: right;\">\n",
       "      <th></th>\n",
       "      <th>PassengerId</th>\n",
       "      <th>Survived</th>\n",
       "      <th>Pclass</th>\n",
       "      <th>Age</th>\n",
       "      <th>SibSp</th>\n",
       "      <th>Parch</th>\n",
       "      <th>Fare</th>\n",
       "      <th>Sex_female</th>\n",
       "      <th>Sex_male</th>\n",
       "      <th>Embarked_C</th>\n",
       "      <th>Embarked_Q</th>\n",
       "      <th>Embarked_S</th>\n",
       "    </tr>\n",
       "    <tr>\n",
       "      <th>Name</th>\n",
       "      <th></th>\n",
       "      <th></th>\n",
       "      <th></th>\n",
       "      <th></th>\n",
       "      <th></th>\n",
       "      <th></th>\n",
       "      <th></th>\n",
       "      <th></th>\n",
       "      <th></th>\n",
       "      <th></th>\n",
       "      <th></th>\n",
       "      <th></th>\n",
       "    </tr>\n",
       "  </thead>\n",
       "  <tbody>\n",
       "    <tr>\n",
       "      <th>Braund, Mr. Owen Harris</th>\n",
       "      <td>1</td>\n",
       "      <td>0</td>\n",
       "      <td>3</td>\n",
       "      <td>22.0</td>\n",
       "      <td>1</td>\n",
       "      <td>0</td>\n",
       "      <td>7.25</td>\n",
       "      <td>0</td>\n",
       "      <td>1</td>\n",
       "      <td>0</td>\n",
       "      <td>0</td>\n",
       "      <td>1</td>\n",
       "    </tr>\n",
       "  </tbody>\n",
       "</table>\n",
       "</div>"
      ],
      "text/plain": [
       "                         PassengerId  Survived  Pclass   Age  SibSp  Parch  \\\n",
       "Name                                                                         \n",
       "Braund, Mr. Owen Harris            1         0       3  22.0      1      0   \n",
       "\n",
       "                         Fare  Sex_female  Sex_male  Embarked_C  Embarked_Q  \\\n",
       "Name                                                                          \n",
       "Braund, Mr. Owen Harris  7.25           0         1           0           0   \n",
       "\n",
       "                         Embarked_S  \n",
       "Name                                 \n",
       "Braund, Mr. Owen Harris           1  "
      ]
     },
     "execution_count": 469,
     "metadata": {},
     "output_type": "execute_result"
    }
   ],
   "source": [
    "dataset = pd.get_dummies(data=dataset, columns=['Sex', 'Embarked'])\n",
    "dataset.head(1)"
   ]
  },
  {
   "cell_type": "markdown",
   "metadata": {},
   "source": [
    "Siguiente paso: Separación de los datos en train y test"
   ]
  },
  {
   "cell_type": "code",
   "execution_count": 470,
   "metadata": {},
   "outputs": [],
   "source": [
    "from sklearn.model_selection import train_test_split"
   ]
  },
  {
   "cell_type": "code",
   "execution_count": 471,
   "metadata": {},
   "outputs": [],
   "source": [
    "x = dataset[dataset.columns[3:12]]\n",
    "y = dataset.Survived\n",
    "\n",
    "x_train, x_test, y_train, y_test= train_test_split(x, y, test_size = 0.33, random_state = 5)\n",
    "\n",
    "precisiones = {}"
   ]
  },
  {
   "cell_type": "markdown",
   "metadata": {},
   "source": [
    "Voy a ver las correlaciones entre variables por curiosidad..."
   ]
  },
  {
   "cell_type": "code",
   "execution_count": 472,
   "metadata": {},
   "outputs": [
    {
     "data": {
      "text/plain": [
       "array([[<matplotlib.axes._subplots.AxesSubplot object at 0x000002380F64B358>,\n",
       "        <matplotlib.axes._subplots.AxesSubplot object at 0x000002380F72B4A8>,\n",
       "        <matplotlib.axes._subplots.AxesSubplot object at 0x000002380F753710>,\n",
       "        <matplotlib.axes._subplots.AxesSubplot object at 0x000002380F77C978>,\n",
       "        <matplotlib.axes._subplots.AxesSubplot object at 0x000002380F7A4C88>,\n",
       "        <matplotlib.axes._subplots.AxesSubplot object at 0x000002380F7D5240>,\n",
       "        <matplotlib.axes._subplots.AxesSubplot object at 0x000002380F7FB7B8>,\n",
       "        <matplotlib.axes._subplots.AxesSubplot object at 0x000002380F822D68>,\n",
       "        <matplotlib.axes._subplots.AxesSubplot object at 0x000002380F822DA0>,\n",
       "        <matplotlib.axes._subplots.AxesSubplot object at 0x000002380F878860>,\n",
       "        <matplotlib.axes._subplots.AxesSubplot object at 0x000002380F8A1DD8>,\n",
       "        <matplotlib.axes._subplots.AxesSubplot object at 0x000002380F8D1390>],\n",
       "       [<matplotlib.axes._subplots.AxesSubplot object at 0x000002380F8F7908>,\n",
       "        <matplotlib.axes._subplots.AxesSubplot object at 0x000002380F920E48>,\n",
       "        <matplotlib.axes._subplots.AxesSubplot object at 0x000002380F950400>,\n",
       "        <matplotlib.axes._subplots.AxesSubplot object at 0x000002380F978978>,\n",
       "        <matplotlib.axes._subplots.AxesSubplot object at 0x000002380F9A0EF0>,\n",
       "        <matplotlib.axes._subplots.AxesSubplot object at 0x000002380F9D04A8>,\n",
       "        <matplotlib.axes._subplots.AxesSubplot object at 0x000002380F9F6A20>,\n",
       "        <matplotlib.axes._subplots.AxesSubplot object at 0x000002380FA1EF98>,\n",
       "        <matplotlib.axes._subplots.AxesSubplot object at 0x000002380FA4D550>,\n",
       "        <matplotlib.axes._subplots.AxesSubplot object at 0x000002380FA77AC8>,\n",
       "        <matplotlib.axes._subplots.AxesSubplot object at 0x000002380FAA7080>,\n",
       "        <matplotlib.axes._subplots.AxesSubplot object at 0x000002380FACD5F8>],\n",
       "       [<matplotlib.axes._subplots.AxesSubplot object at 0x000002380FAF7B70>,\n",
       "        <matplotlib.axes._subplots.AxesSubplot object at 0x000002380FB26128>,\n",
       "        <matplotlib.axes._subplots.AxesSubplot object at 0x000002380FB4C6A0>,\n",
       "        <matplotlib.axes._subplots.AxesSubplot object at 0x000002380FB73C18>,\n",
       "        <matplotlib.axes._subplots.AxesSubplot object at 0x000002380FBA51D0>,\n",
       "        <matplotlib.axes._subplots.AxesSubplot object at 0x000002380FBCD748>,\n",
       "        <matplotlib.axes._subplots.AxesSubplot object at 0x000002380FBF3CC0>,\n",
       "        <matplotlib.axes._subplots.AxesSubplot object at 0x000002380FC26278>,\n",
       "        <matplotlib.axes._subplots.AxesSubplot object at 0x000002380FC4E7F0>,\n",
       "        <matplotlib.axes._subplots.AxesSubplot object at 0x000002380FC75D68>,\n",
       "        <matplotlib.axes._subplots.AxesSubplot object at 0x000002380FCA8320>,\n",
       "        <matplotlib.axes._subplots.AxesSubplot object at 0x000002380FCCD898>],\n",
       "       [<matplotlib.axes._subplots.AxesSubplot object at 0x000002380FCF6E10>,\n",
       "        <matplotlib.axes._subplots.AxesSubplot object at 0x000002380FD273C8>,\n",
       "        <matplotlib.axes._subplots.AxesSubplot object at 0x000002380FD4E940>,\n",
       "        <matplotlib.axes._subplots.AxesSubplot object at 0x000002380FD78EB8>,\n",
       "        <matplotlib.axes._subplots.AxesSubplot object at 0x000002380FDAA470>,\n",
       "        <matplotlib.axes._subplots.AxesSubplot object at 0x000002380FDD29E8>,\n",
       "        <matplotlib.axes._subplots.AxesSubplot object at 0x000002380FDFAF60>,\n",
       "        <matplotlib.axes._subplots.AxesSubplot object at 0x000002380FE2B518>,\n",
       "        <matplotlib.axes._subplots.AxesSubplot object at 0x000002380FE50A90>,\n",
       "        <matplotlib.axes._subplots.AxesSubplot object at 0x000002380FE82048>,\n",
       "        <matplotlib.axes._subplots.AxesSubplot object at 0x000002380FEAB5C0>,\n",
       "        <matplotlib.axes._subplots.AxesSubplot object at 0x000002380FED1B38>],\n",
       "       [<matplotlib.axes._subplots.AxesSubplot object at 0x000002380FF030F0>,\n",
       "        <matplotlib.axes._subplots.AxesSubplot object at 0x000002380F59C048>,\n",
       "        <matplotlib.axes._subplots.AxesSubplot object at 0x000002380F56D748>,\n",
       "        <matplotlib.axes._subplots.AxesSubplot object at 0x000002380F553B38>,\n",
       "        <matplotlib.axes._subplots.AxesSubplot object at 0x000002380F555438>,\n",
       "        <matplotlib.axes._subplots.AxesSubplot object at 0x000002380B9CEBE0>,\n",
       "        <matplotlib.axes._subplots.AxesSubplot object at 0x000002380F554198>,\n",
       "        <matplotlib.axes._subplots.AxesSubplot object at 0x000002380F57B710>,\n",
       "        <matplotlib.axes._subplots.AxesSubplot object at 0x000002380FF48C88>,\n",
       "        <matplotlib.axes._subplots.AxesSubplot object at 0x000002380FF7A240>,\n",
       "        <matplotlib.axes._subplots.AxesSubplot object at 0x000002380FFA27B8>,\n",
       "        <matplotlib.axes._subplots.AxesSubplot object at 0x000002380FFCAD30>],\n",
       "       [<matplotlib.axes._subplots.AxesSubplot object at 0x000002380FFFB2E8>,\n",
       "        <matplotlib.axes._subplots.AxesSubplot object at 0x0000023810022860>,\n",
       "        <matplotlib.axes._subplots.AxesSubplot object at 0x000002381004BDD8>,\n",
       "        <matplotlib.axes._subplots.AxesSubplot object at 0x000002381007E390>,\n",
       "        <matplotlib.axes._subplots.AxesSubplot object at 0x00000238100A5908>,\n",
       "        <matplotlib.axes._subplots.AxesSubplot object at 0x00000238100CDE80>,\n",
       "        <matplotlib.axes._subplots.AxesSubplot object at 0x00000238100FC438>,\n",
       "        <matplotlib.axes._subplots.AxesSubplot object at 0x00000238101249B0>,\n",
       "        <matplotlib.axes._subplots.AxesSubplot object at 0x000002381014CF28>,\n",
       "        <matplotlib.axes._subplots.AxesSubplot object at 0x000002381017D4E0>,\n",
       "        <matplotlib.axes._subplots.AxesSubplot object at 0x00000238101A7A58>,\n",
       "        <matplotlib.axes._subplots.AxesSubplot object at 0x00000238101CEFD0>],\n",
       "       [<matplotlib.axes._subplots.AxesSubplot object at 0x00000238101FE588>,\n",
       "        <matplotlib.axes._subplots.AxesSubplot object at 0x0000023810227B00>,\n",
       "        <matplotlib.axes._subplots.AxesSubplot object at 0x00000238102580B8>,\n",
       "        <matplotlib.axes._subplots.AxesSubplot object at 0x0000023810281630>,\n",
       "        <matplotlib.axes._subplots.AxesSubplot object at 0x00000238102A8BA8>,\n",
       "        <matplotlib.axes._subplots.AxesSubplot object at 0x00000238102DB160>,\n",
       "        <matplotlib.axes._subplots.AxesSubplot object at 0x00000238103026D8>,\n",
       "        <matplotlib.axes._subplots.AxesSubplot object at 0x0000023810329C50>,\n",
       "        <matplotlib.axes._subplots.AxesSubplot object at 0x000002381035C208>,\n",
       "        <matplotlib.axes._subplots.AxesSubplot object at 0x0000023810382780>,\n",
       "        <matplotlib.axes._subplots.AxesSubplot object at 0x00000238103A9CF8>,\n",
       "        <matplotlib.axes._subplots.AxesSubplot object at 0x00000238103DB2B0>],\n",
       "       [<matplotlib.axes._subplots.AxesSubplot object at 0x0000023810403828>,\n",
       "        <matplotlib.axes._subplots.AxesSubplot object at 0x000002381042BDA0>,\n",
       "        <matplotlib.axes._subplots.AxesSubplot object at 0x000002381045D358>,\n",
       "        <matplotlib.axes._subplots.AxesSubplot object at 0x00000238104838D0>,\n",
       "        <matplotlib.axes._subplots.AxesSubplot object at 0x00000238104ADE48>,\n",
       "        <matplotlib.axes._subplots.AxesSubplot object at 0x00000238104DE400>,\n",
       "        <matplotlib.axes._subplots.AxesSubplot object at 0x0000023810504978>,\n",
       "        <matplotlib.axes._subplots.AxesSubplot object at 0x000002381052EEF0>,\n",
       "        <matplotlib.axes._subplots.AxesSubplot object at 0x000002381055F4A8>,\n",
       "        <matplotlib.axes._subplots.AxesSubplot object at 0x0000023810586A20>,\n",
       "        <matplotlib.axes._subplots.AxesSubplot object at 0x00000238105AFF98>,\n",
       "        <matplotlib.axes._subplots.AxesSubplot object at 0x00000238105E0550>],\n",
       "       [<matplotlib.axes._subplots.AxesSubplot object at 0x0000023810607AC8>,\n",
       "        <matplotlib.axes._subplots.AxesSubplot object at 0x0000023810638080>,\n",
       "        <matplotlib.axes._subplots.AxesSubplot object at 0x000002381065F5F8>,\n",
       "        <matplotlib.axes._subplots.AxesSubplot object at 0x0000023810688B70>,\n",
       "        <matplotlib.axes._subplots.AxesSubplot object at 0x00000238106BB128>,\n",
       "        <matplotlib.axes._subplots.AxesSubplot object at 0x00000238116B26A0>,\n",
       "        <matplotlib.axes._subplots.AxesSubplot object at 0x00000238116D9C18>,\n",
       "        <matplotlib.axes._subplots.AxesSubplot object at 0x000002381170B1D0>,\n",
       "        <matplotlib.axes._subplots.AxesSubplot object at 0x0000023811732748>,\n",
       "        <matplotlib.axes._subplots.AxesSubplot object at 0x0000023811759CC0>,\n",
       "        <matplotlib.axes._subplots.AxesSubplot object at 0x000002381178D278>,\n",
       "        <matplotlib.axes._subplots.AxesSubplot object at 0x00000238117B37F0>],\n",
       "       [<matplotlib.axes._subplots.AxesSubplot object at 0x00000238117DCD68>,\n",
       "        <matplotlib.axes._subplots.AxesSubplot object at 0x000002381180C320>,\n",
       "        <matplotlib.axes._subplots.AxesSubplot object at 0x0000023811834898>,\n",
       "        <matplotlib.axes._subplots.AxesSubplot object at 0x000002381185CE10>,\n",
       "        <matplotlib.axes._subplots.AxesSubplot object at 0x000002381188C3C8>,\n",
       "        <matplotlib.axes._subplots.AxesSubplot object at 0x00000238118B6940>,\n",
       "        <matplotlib.axes._subplots.AxesSubplot object at 0x00000238118DFEB8>,\n",
       "        <matplotlib.axes._subplots.AxesSubplot object at 0x000002381190E470>,\n",
       "        <matplotlib.axes._subplots.AxesSubplot object at 0x00000238119379E8>,\n",
       "        <matplotlib.axes._subplots.AxesSubplot object at 0x000002381195FF60>,\n",
       "        <matplotlib.axes._subplots.AxesSubplot object at 0x000002381198F518>,\n",
       "        <matplotlib.axes._subplots.AxesSubplot object at 0x00000238119B8A90>],\n",
       "       [<matplotlib.axes._subplots.AxesSubplot object at 0x00000238119EB048>,\n",
       "        <matplotlib.axes._subplots.AxesSubplot object at 0x0000023811A0F5C0>,\n",
       "        <matplotlib.axes._subplots.AxesSubplot object at 0x0000023811A38B38>,\n",
       "        <matplotlib.axes._subplots.AxesSubplot object at 0x0000023811A690F0>,\n",
       "        <matplotlib.axes._subplots.AxesSubplot object at 0x0000023811A93668>,\n",
       "        <matplotlib.axes._subplots.AxesSubplot object at 0x0000023811ABBBE0>,\n",
       "        <matplotlib.axes._subplots.AxesSubplot object at 0x0000023811AEB198>,\n",
       "        <matplotlib.axes._subplots.AxesSubplot object at 0x0000023811B13710>,\n",
       "        <matplotlib.axes._subplots.AxesSubplot object at 0x0000023811B3CC88>,\n",
       "        <matplotlib.axes._subplots.AxesSubplot object at 0x0000023811B6E240>,\n",
       "        <matplotlib.axes._subplots.AxesSubplot object at 0x0000023811B967B8>,\n",
       "        <matplotlib.axes._subplots.AxesSubplot object at 0x0000023811BBCD30>],\n",
       "       [<matplotlib.axes._subplots.AxesSubplot object at 0x0000023811BED2E8>,\n",
       "        <matplotlib.axes._subplots.AxesSubplot object at 0x0000023811C15860>,\n",
       "        <matplotlib.axes._subplots.AxesSubplot object at 0x0000023811C3CDD8>,\n",
       "        <matplotlib.axes._subplots.AxesSubplot object at 0x0000023811C6F390>,\n",
       "        <matplotlib.axes._subplots.AxesSubplot object at 0x0000023811C96908>,\n",
       "        <matplotlib.axes._subplots.AxesSubplot object at 0x0000023811CBEE80>,\n",
       "        <matplotlib.axes._subplots.AxesSubplot object at 0x0000023811CEF438>,\n",
       "        <matplotlib.axes._subplots.AxesSubplot object at 0x0000023811D169B0>,\n",
       "        <matplotlib.axes._subplots.AxesSubplot object at 0x0000023811D3EF28>,\n",
       "        <matplotlib.axes._subplots.AxesSubplot object at 0x0000023811D704E0>,\n",
       "        <matplotlib.axes._subplots.AxesSubplot object at 0x0000023811D9BA58>,\n",
       "        <matplotlib.axes._subplots.AxesSubplot object at 0x0000023811DC3FD0>]],\n",
       "      dtype=object)"
      ]
     },
     "execution_count": 472,
     "metadata": {},
     "output_type": "execute_result"
    },
    {
     "data": {
      "image/png": "[encoded data removed]",
      "text/plain": [
       "<Figure size 432x432 with 144 Axes>"
      ]
     },
     "metadata": {
      "needs_background": "light"
     },
     "output_type": "display_data"
    }
   ],
   "source": [
    "from pandas.plotting import scatter_matrix\n",
    "\n",
    "scatter_matrix(dataset[3:12], alpha=0.5, figsize=(6, 6), diagonal='kde')"
   ]
  },
  {
   "cell_type": "code",
   "execution_count": 473,
   "metadata": {},
   "outputs": [
    {
     "data": {
      "text/html": [
       "<style  type=\"text/css\" >\n",
       "    #T_fa2f1652_48af_11e9_b696_74d435ea1c75row0_col0 {\n",
       "            background-color:  #b40426;\n",
       "        }    #T_fa2f1652_48af_11e9_b696_74d435ea1c75row0_col1 {\n",
       "            background-color:  #afcafc;\n",
       "        }    #T_fa2f1652_48af_11e9_b696_74d435ea1c75row0_col2 {\n",
       "            background-color:  #a9c6fd;\n",
       "        }    #T_fa2f1652_48af_11e9_b696_74d435ea1c75row0_col3 {\n",
       "            background-color:  #96b7ff;\n",
       "        }    #T_fa2f1652_48af_11e9_b696_74d435ea1c75row0_col4 {\n",
       "            background-color:  #6788ee;\n",
       "        }    #T_fa2f1652_48af_11e9_b696_74d435ea1c75row0_col5 {\n",
       "            background-color:  #7a9df8;\n",
       "        }    #T_fa2f1652_48af_11e9_b696_74d435ea1c75row0_col6 {\n",
       "            background-color:  #b3cdfb;\n",
       "        }    #T_fa2f1652_48af_11e9_b696_74d435ea1c75row0_col7 {\n",
       "            background-color:  #d7dce3;\n",
       "        }    #T_fa2f1652_48af_11e9_b696_74d435ea1c75row0_col8 {\n",
       "            background-color:  #e2dad5;\n",
       "        }    #T_fa2f1652_48af_11e9_b696_74d435ea1c75row0_col9 {\n",
       "            background-color:  #ccd9ed;\n",
       "        }    #T_fa2f1652_48af_11e9_b696_74d435ea1c75row0_col10 {\n",
       "            background-color:  #a2c1ff;\n",
       "        }    #T_fa2f1652_48af_11e9_b696_74d435ea1c75row0_col11 {\n",
       "            background-color:  #cfdaea;\n",
       "        }    #T_fa2f1652_48af_11e9_b696_74d435ea1c75row1_col0 {\n",
       "            background-color:  #4961d2;\n",
       "        }    #T_fa2f1652_48af_11e9_b696_74d435ea1c75row1_col1 {\n",
       "            background-color:  #b40426;\n",
       "        }    #T_fa2f1652_48af_11e9_b696_74d435ea1c75row1_col2 {\n",
       "            background-color:  #6485ec;\n",
       "        }    #T_fa2f1652_48af_11e9_b696_74d435ea1c75row1_col3 {\n",
       "            background-color:  #7a9df8;\n",
       "        }    #T_fa2f1652_48af_11e9_b696_74d435ea1c75row1_col4 {\n",
       "            background-color:  #6c8ff1;\n",
       "        }    #T_fa2f1652_48af_11e9_b696_74d435ea1c75row1_col5 {\n",
       "            background-color:  #92b4fe;\n",
       "        }    #T_fa2f1652_48af_11e9_b696_74d435ea1c75row1_col6 {\n",
       "            background-color:  #e2dad5;\n",
       "        }    #T_fa2f1652_48af_11e9_b696_74d435ea1c75row1_col7 {\n",
       "            background-color:  #f29072;\n",
       "        }    #T_fa2f1652_48af_11e9_b696_74d435ea1c75row1_col8 {\n",
       "            background-color:  #85a8fc;\n",
       "        }    #T_fa2f1652_48af_11e9_b696_74d435ea1c75row1_col9 {\n",
       "            background-color:  #e5d8d1;\n",
       "        }    #T_fa2f1652_48af_11e9_b696_74d435ea1c75row1_col10 {\n",
       "            background-color:  #aac7fd;\n",
       "        }    #T_fa2f1652_48af_11e9_b696_74d435ea1c75row1_col11 {\n",
       "            background-color:  #b1cbfc;\n",
       "        }    #T_fa2f1652_48af_11e9_b696_74d435ea1c75row2_col0 {\n",
       "            background-color:  #4055c8;\n",
       "        }    #T_fa2f1652_48af_11e9_b696_74d435ea1c75row2_col1 {\n",
       "            background-color:  #6384eb;\n",
       "        }    #T_fa2f1652_48af_11e9_b696_74d435ea1c75row2_col2 {\n",
       "            background-color:  #b40426;\n",
       "        }    #T_fa2f1652_48af_11e9_b696_74d435ea1c75row2_col3 {\n",
       "            background-color:  #3b4cc0;\n",
       "        }    #T_fa2f1652_48af_11e9_b696_74d435ea1c75row2_col4 {\n",
       "            background-color:  #8fb1fe;\n",
       "        }    #T_fa2f1652_48af_11e9_b696_74d435ea1c75row2_col5 {\n",
       "            background-color:  #80a3fa;\n",
       "        }    #T_fa2f1652_48af_11e9_b696_74d435ea1c75row2_col6 {\n",
       "            background-color:  #3b4cc0;\n",
       "        }    #T_fa2f1652_48af_11e9_b696_74d435ea1c75row2_col7 {\n",
       "            background-color:  #cbd8ee;\n",
       "        }    #T_fa2f1652_48af_11e9_b696_74d435ea1c75row2_col8 {\n",
       "            background-color:  #ecd3c5;\n",
       "        }    #T_fa2f1652_48af_11e9_b696_74d435ea1c75row2_col9 {\n",
       "            background-color:  #9fbfff;\n",
       "        }    #T_fa2f1652_48af_11e9_b696_74d435ea1c75row2_col10 {\n",
       "            background-color:  #d8dce2;\n",
       "        }    #T_fa2f1652_48af_11e9_b696_74d435ea1c75row2_col11 {\n",
       "            background-color:  #d8dce2;\n",
       "        }    #T_fa2f1652_48af_11e9_b696_74d435ea1c75row3_col0 {\n",
       "            background-color:  #5470de;\n",
       "        }    #T_fa2f1652_48af_11e9_b696_74d435ea1c75row3_col1 {\n",
       "            background-color:  #a1c0ff;\n",
       "        }    #T_fa2f1652_48af_11e9_b696_74d435ea1c75row3_col2 {\n",
       "            background-color:  #6788ee;\n",
       "        }    #T_fa2f1652_48af_11e9_b696_74d435ea1c75row3_col3 {\n",
       "            background-color:  #b40426;\n",
       "        }    #T_fa2f1652_48af_11e9_b696_74d435ea1c75row3_col4 {\n",
       "            background-color:  #3b4cc0;\n",
       "        }    #T_fa2f1652_48af_11e9_b696_74d435ea1c75row3_col5 {\n",
       "            background-color:  #4a63d3;\n",
       "        }    #T_fa2f1652_48af_11e9_b696_74d435ea1c75row3_col6 {\n",
       "            background-color:  #c4d5f3;\n",
       "        }    #T_fa2f1652_48af_11e9_b696_74d435ea1c75row3_col7 {\n",
       "            background-color:  #d2dbe8;\n",
       "        }    #T_fa2f1652_48af_11e9_b696_74d435ea1c75row3_col8 {\n",
       "            background-color:  #e7d7ce;\n",
       "        }    #T_fa2f1652_48af_11e9_b696_74d435ea1c75row3_col9 {\n",
       "            background-color:  #d1dae9;\n",
       "        }    #T_fa2f1652_48af_11e9_b696_74d435ea1c75row3_col10 {\n",
       "            background-color:  #a6c4fe;\n",
       "        }    #T_fa2f1652_48af_11e9_b696_74d435ea1c75row3_col11 {\n",
       "            background-color:  #c9d7f0;\n",
       "        }    #T_fa2f1652_48af_11e9_b696_74d435ea1c75row4_col0 {\n",
       "            background-color:  #3b4cc0;\n",
       "        }    #T_fa2f1652_48af_11e9_b696_74d435ea1c75row4_col1 {\n",
       "            background-color:  #a9c6fd;\n",
       "        }    #T_fa2f1652_48af_11e9_b696_74d435ea1c75row4_col2 {\n",
       "            background-color:  #c3d5f4;\n",
       "        }    #T_fa2f1652_48af_11e9_b696_74d435ea1c75row4_col3 {\n",
       "            background-color:  #506bda;\n",
       "        }    #T_fa2f1652_48af_11e9_b696_74d435ea1c75row4_col4 {\n",
       "            background-color:  #b40426;\n",
       "        }    #T_fa2f1652_48af_11e9_b696_74d435ea1c75row4_col5 {\n",
       "            background-color:  #e4d9d2;\n",
       "        }    #T_fa2f1652_48af_11e9_b696_74d435ea1c75row4_col6 {\n",
       "            background-color:  #d2dbe8;\n",
       "        }    #T_fa2f1652_48af_11e9_b696_74d435ea1c75row4_col7 {\n",
       "            background-color:  #ead4c8;\n",
       "        }    #T_fa2f1652_48af_11e9_b696_74d435ea1c75row4_col8 {\n",
       "            background-color:  #cdd9ec;\n",
       "        }    #T_fa2f1652_48af_11e9_b696_74d435ea1c75row4_col9 {\n",
       "            background-color:  #c1d4f4;\n",
       "        }    #T_fa2f1652_48af_11e9_b696_74d435ea1c75row4_col10 {\n",
       "            background-color:  #a3c2fe;\n",
       "        }    #T_fa2f1652_48af_11e9_b696_74d435ea1c75row4_col11 {\n",
       "            background-color:  #d7dce3;\n",
       "        }    #T_fa2f1652_48af_11e9_b696_74d435ea1c75row5_col0 {\n",
       "            background-color:  #4a63d3;\n",
       "        }    #T_fa2f1652_48af_11e9_b696_74d435ea1c75row5_col1 {\n",
       "            background-color:  #c1d4f4;\n",
       "        }    #T_fa2f1652_48af_11e9_b696_74d435ea1c75row5_col2 {\n",
       "            background-color:  #b5cdfa;\n",
       "        }    #T_fa2f1652_48af_11e9_b696_74d435ea1c75row5_col3 {\n",
       "            background-color:  #5e7de7;\n",
       "        }    #T_fa2f1652_48af_11e9_b696_74d435ea1c75row5_col4 {\n",
       "            background-color:  #e3d9d3;\n",
       "        }    #T_fa2f1652_48af_11e9_b696_74d435ea1c75row5_col5 {\n",
       "            background-color:  #b40426;\n",
       "        }    #T_fa2f1652_48af_11e9_b696_74d435ea1c75row5_col6 {\n",
       "            background-color:  #dbdcde;\n",
       "        }    #T_fa2f1652_48af_11e9_b696_74d435ea1c75row5_col7 {\n",
       "            background-color:  #f4c5ad;\n",
       "        }    #T_fa2f1652_48af_11e9_b696_74d435ea1c75row5_col8 {\n",
       "            background-color:  #b9d0f9;\n",
       "        }    #T_fa2f1652_48af_11e9_b696_74d435ea1c75row5_col9 {\n",
       "            background-color:  #cad8ef;\n",
       "        }    #T_fa2f1652_48af_11e9_b696_74d435ea1c75row5_col10 {\n",
       "            background-color:  #97b8ff;\n",
       "        }    #T_fa2f1652_48af_11e9_b696_74d435ea1c75row5_col11 {\n",
       "            background-color:  #d6dce4;\n",
       "        }    #T_fa2f1652_48af_11e9_b696_74d435ea1c75row6_col0 {\n",
       "            background-color:  #4e68d8;\n",
       "        }    #T_fa2f1652_48af_11e9_b696_74d435ea1c75row6_col1 {\n",
       "            background-color:  #e1dad6;\n",
       "        }    #T_fa2f1652_48af_11e9_b696_74d435ea1c75row6_col2 {\n",
       "            background-color:  #3b4cc0;\n",
       "        }    #T_fa2f1652_48af_11e9_b696_74d435ea1c75row6_col3 {\n",
       "            background-color:  #a5c3fe;\n",
       "        }    #T_fa2f1652_48af_11e9_b696_74d435ea1c75row6_col4 {\n",
       "            background-color:  #a5c3fe;\n",
       "        }    #T_fa2f1652_48af_11e9_b696_74d435ea1c75row6_col5 {\n",
       "            background-color:  #b6cefa;\n",
       "        }    #T_fa2f1652_48af_11e9_b696_74d435ea1c75row6_col6 {\n",
       "            background-color:  #b40426;\n",
       "        }    #T_fa2f1652_48af_11e9_b696_74d435ea1c75row6_col7 {\n",
       "            background-color:  #f1cdba;\n",
       "        }    #T_fa2f1652_48af_11e9_b696_74d435ea1c75row6_col8 {\n",
       "            background-color:  #c3d5f4;\n",
       "        }    #T_fa2f1652_48af_11e9_b696_74d435ea1c75row6_col9 {\n",
       "            background-color:  #f1cdba;\n",
       "        }    #T_fa2f1652_48af_11e9_b696_74d435ea1c75row6_col10 {\n",
       "            background-color:  #8fb1fe;\n",
       "        }    #T_fa2f1652_48af_11e9_b696_74d435ea1c75row6_col11 {\n",
       "            background-color:  #afcafc;\n",
       "        }    #T_fa2f1652_48af_11e9_b696_74d435ea1c75row7_col0 {\n",
       "            background-color:  #3e51c5;\n",
       "        }    #T_fa2f1652_48af_11e9_b696_74d435ea1c75row7_col1 {\n",
       "            background-color:  #f7aa8c;\n",
       "        }    #T_fa2f1652_48af_11e9_b696_74d435ea1c75row7_col2 {\n",
       "            background-color:  #93b5fe;\n",
       "        }    #T_fa2f1652_48af_11e9_b696_74d435ea1c75row7_col3 {\n",
       "            background-color:  #7699f6;\n",
       "        }    #T_fa2f1652_48af_11e9_b696_74d435ea1c75row7_col4 {\n",
       "            background-color:  #98b9ff;\n",
       "        }    #T_fa2f1652_48af_11e9_b696_74d435ea1c75row7_col5 {\n",
       "            background-color:  #bed2f6;\n",
       "        }    #T_fa2f1652_48af_11e9_b696_74d435ea1c75row7_col6 {\n",
       "            background-color:  #d5dbe5;\n",
       "        }    #T_fa2f1652_48af_11e9_b696_74d435ea1c75row7_col7 {\n",
       "            background-color:  #b40426;\n",
       "        }    #T_fa2f1652_48af_11e9_b696_74d435ea1c75row7_col8 {\n",
       "            background-color:  #3b4cc0;\n",
       "        }    #T_fa2f1652_48af_11e9_b696_74d435ea1c75row7_col9 {\n",
       "            background-color:  #d9dce1;\n",
       "        }    #T_fa2f1652_48af_11e9_b696_74d435ea1c75row7_col10 {\n",
       "            background-color:  #bad0f8;\n",
       "        }    #T_fa2f1652_48af_11e9_b696_74d435ea1c75row7_col11 {\n",
       "            background-color:  #b7cff9;\n",
       "        }    #T_fa2f1652_48af_11e9_b696_74d435ea1c75row8_col0 {\n",
       "            background-color:  #5875e1;\n",
       "        }    #T_fa2f1652_48af_11e9_b696_74d435ea1c75row8_col1 {\n",
       "            background-color:  #3b4cc0;\n",
       "        }    #T_fa2f1652_48af_11e9_b696_74d435ea1c75row8_col2 {\n",
       "            background-color:  #ccd9ed;\n",
       "        }    #T_fa2f1652_48af_11e9_b696_74d435ea1c75row8_col3 {\n",
       "            background-color:  #a2c1ff;\n",
       "        }    #T_fa2f1652_48af_11e9_b696_74d435ea1c75row8_col4 {\n",
       "            background-color:  #5875e1;\n",
       "        }    #T_fa2f1652_48af_11e9_b696_74d435ea1c75row8_col5 {\n",
       "            background-color:  #3b4cc0;\n",
       "        }    #T_fa2f1652_48af_11e9_b696_74d435ea1c75row8_col6 {\n",
       "            background-color:  #88abfd;\n",
       "        }    #T_fa2f1652_48af_11e9_b696_74d435ea1c75row8_col7 {\n",
       "            background-color:  #3b4cc0;\n",
       "        }    #T_fa2f1652_48af_11e9_b696_74d435ea1c75row8_col8 {\n",
       "            background-color:  #b40426;\n",
       "        }    #T_fa2f1652_48af_11e9_b696_74d435ea1c75row8_col9 {\n",
       "            background-color:  #bed2f6;\n",
       "        }    #T_fa2f1652_48af_11e9_b696_74d435ea1c75row8_col10 {\n",
       "            background-color:  #98b9ff;\n",
       "        }    #T_fa2f1652_48af_11e9_b696_74d435ea1c75row8_col11 {\n",
       "            background-color:  #dedcdb;\n",
       "        }    #T_fa2f1652_48af_11e9_b696_74d435ea1c75row9_col0 {\n",
       "            background-color:  #4a63d3;\n",
       "        }    #T_fa2f1652_48af_11e9_b696_74d435ea1c75row9_col1 {\n",
       "            background-color:  #d3dbe7;\n",
       "        }    #T_fa2f1652_48af_11e9_b696_74d435ea1c75row9_col2 {\n",
       "            background-color:  #7a9df8;\n",
       "        }    #T_fa2f1652_48af_11e9_b696_74d435ea1c75row9_col3 {\n",
       "            background-color:  #94b6ff;\n",
       "        }    #T_fa2f1652_48af_11e9_b696_74d435ea1c75row9_col4 {\n",
       "            background-color:  #6687ed;\n",
       "        }    #T_fa2f1652_48af_11e9_b696_74d435ea1c75row9_col5 {\n",
       "            background-color:  #779af7;\n",
       "        }    #T_fa2f1652_48af_11e9_b696_74d435ea1c75row9_col6 {\n",
       "            background-color:  #e4d9d2;\n",
       "        }    #T_fa2f1652_48af_11e9_b696_74d435ea1c75row9_col7 {\n",
       "            background-color:  #e7d7ce;\n",
       "        }    #T_fa2f1652_48af_11e9_b696_74d435ea1c75row9_col8 {\n",
       "            background-color:  #d2dbe8;\n",
       "        }    #T_fa2f1652_48af_11e9_b696_74d435ea1c75row9_col9 {\n",
       "            background-color:  #b40426;\n",
       "        }    #T_fa2f1652_48af_11e9_b696_74d435ea1c75row9_col10 {\n",
       "            background-color:  #86a9fc;\n",
       "        }    #T_fa2f1652_48af_11e9_b696_74d435ea1c75row9_col11 {\n",
       "            background-color:  #3b4cc0;\n",
       "        }    #T_fa2f1652_48af_11e9_b696_74d435ea1c75row10_col0 {\n",
       "            background-color:  #4055c8;\n",
       "        }    #T_fa2f1652_48af_11e9_b696_74d435ea1c75row10_col1 {\n",
       "            background-color:  #b1cbfc;\n",
       "        }    #T_fa2f1652_48af_11e9_b696_74d435ea1c75row10_col2 {\n",
       "            background-color:  #dcdddd;\n",
       "        }    #T_fa2f1652_48af_11e9_b696_74d435ea1c75row10_col3 {\n",
       "            background-color:  #89acfd;\n",
       "        }    #T_fa2f1652_48af_11e9_b696_74d435ea1c75row10_col4 {\n",
       "            background-color:  #6f92f3;\n",
       "        }    #T_fa2f1652_48af_11e9_b696_74d435ea1c75row10_col5 {\n",
       "            background-color:  #6384eb;\n",
       "        }    #T_fa2f1652_48af_11e9_b696_74d435ea1c75row10_col6 {\n",
       "            background-color:  #97b8ff;\n",
       "        }    #T_fa2f1652_48af_11e9_b696_74d435ea1c75row10_col7 {\n",
       "            background-color:  #e6d7cf;\n",
       "        }    #T_fa2f1652_48af_11e9_b696_74d435ea1c75row10_col8 {\n",
       "            background-color:  #d3dbe7;\n",
       "        }    #T_fa2f1652_48af_11e9_b696_74d435ea1c75row10_col9 {\n",
       "            background-color:  #b2ccfb;\n",
       "        }    #T_fa2f1652_48af_11e9_b696_74d435ea1c75row10_col10 {\n",
       "            background-color:  #b40426;\n",
       "        }    #T_fa2f1652_48af_11e9_b696_74d435ea1c75row10_col11 {\n",
       "            background-color:  #6c8ff1;\n",
       "        }    #T_fa2f1652_48af_11e9_b696_74d435ea1c75row11_col0 {\n",
       "            background-color:  #516ddb;\n",
       "        }    #T_fa2f1652_48af_11e9_b696_74d435ea1c75row11_col1 {\n",
       "            background-color:  #8fb1fe;\n",
       "        }    #T_fa2f1652_48af_11e9_b696_74d435ea1c75row11_col2 {\n",
       "            background-color:  #c1d4f4;\n",
       "        }    #T_fa2f1652_48af_11e9_b696_74d435ea1c75row11_col3 {\n",
       "            background-color:  #86a9fc;\n",
       "        }    #T_fa2f1652_48af_11e9_b696_74d435ea1c75row11_col4 {\n",
       "            background-color:  #8badfd;\n",
       "        }    #T_fa2f1652_48af_11e9_b696_74d435ea1c75row11_col5 {\n",
       "            background-color:  #8badfd;\n",
       "        }    #T_fa2f1652_48af_11e9_b696_74d435ea1c75row11_col6 {\n",
       "            background-color:  #8caffe;\n",
       "        }    #T_fa2f1652_48af_11e9_b696_74d435ea1c75row11_col7 {\n",
       "            background-color:  #ccd9ed;\n",
       "        }    #T_fa2f1652_48af_11e9_b696_74d435ea1c75row11_col8 {\n",
       "            background-color:  #ebd3c6;\n",
       "        }    #T_fa2f1652_48af_11e9_b696_74d435ea1c75row11_col9 {\n",
       "            background-color:  #3b4cc0;\n",
       "        }    #T_fa2f1652_48af_11e9_b696_74d435ea1c75row11_col10 {\n",
       "            background-color:  #3b4cc0;\n",
       "        }    #T_fa2f1652_48af_11e9_b696_74d435ea1c75row11_col11 {\n",
       "            background-color:  #b40426;\n",
       "        }</style>  \n",
       "<table id=\"T_fa2f1652_48af_11e9_b696_74d435ea1c75\" > \n",
       "<thead>    <tr> \n",
       "        <th class=\"blank level0\" ></th> \n",
       "        <th class=\"col_heading level0 col0\" >PassengerId</th> \n",
       "        <th class=\"col_heading level0 col1\" >Survived</th> \n",
       "        <th class=\"col_heading level0 col2\" >Pclass</th> \n",
       "        <th class=\"col_heading level0 col3\" >Age</th> \n",
       "        <th class=\"col_heading level0 col4\" >SibSp</th> \n",
       "        <th class=\"col_heading level0 col5\" >Parch</th> \n",
       "        <th class=\"col_heading level0 col6\" >Fare</th> \n",
       "        <th class=\"col_heading level0 col7\" >Sex_female</th> \n",
       "        <th class=\"col_heading level0 col8\" >Sex_male</th> \n",
       "        <th class=\"col_heading level0 col9\" >Embarked_C</th> \n",
       "        <th class=\"col_heading level0 col10\" >Embarked_Q</th> \n",
       "        <th class=\"col_heading level0 col11\" >Embarked_S</th> \n",
       "    </tr></thead> \n",
       "<tbody>    <tr> \n",
       "        <th id=\"T_fa2f1652_48af_11e9_b696_74d435ea1c75level0_row0\" class=\"row_heading level0 row0\" >PassengerId</th> \n",
       "        <td id=\"T_fa2f1652_48af_11e9_b696_74d435ea1c75row0_col0\" class=\"data row0 col0\" >1</td> \n",
       "        <td id=\"T_fa2f1652_48af_11e9_b696_74d435ea1c75row0_col1\" class=\"data row0 col1\" >-0.00500666</td> \n",
       "        <td id=\"T_fa2f1652_48af_11e9_b696_74d435ea1c75row0_col2\" class=\"data row0 col2\" >-0.035144</td> \n",
       "        <td id=\"T_fa2f1652_48af_11e9_b696_74d435ea1c75row0_col3\" class=\"data row0 col3\" >0.0332065</td> \n",
       "        <td id=\"T_fa2f1652_48af_11e9_b696_74d435ea1c75row0_col4\" class=\"data row0 col4\" >-0.0575268</td> \n",
       "        <td id=\"T_fa2f1652_48af_11e9_b696_74d435ea1c75row0_col5\" class=\"data row0 col5\" >-0.00165201</td> \n",
       "        <td id=\"T_fa2f1652_48af_11e9_b696_74d435ea1c75row0_col6\" class=\"data row0 col6\" >0.0126582</td> \n",
       "        <td id=\"T_fa2f1652_48af_11e9_b696_74d435ea1c75row0_col7\" class=\"data row0 col7\" >-0.0429389</td> \n",
       "        <td id=\"T_fa2f1652_48af_11e9_b696_74d435ea1c75row0_col8\" class=\"data row0 col8\" >0.0429389</td> \n",
       "        <td id=\"T_fa2f1652_48af_11e9_b696_74d435ea1c75row0_col9\" class=\"data row0 col9\" >-0.0012048</td> \n",
       "        <td id=\"T_fa2f1652_48af_11e9_b696_74d435ea1c75row0_col10\" class=\"data row0 col10\" >-0.0336057</td> \n",
       "        <td id=\"T_fa2f1652_48af_11e9_b696_74d435ea1c75row0_col11\" class=\"data row0 col11\" >0.0222035</td> \n",
       "    </tr>    <tr> \n",
       "        <th id=\"T_fa2f1652_48af_11e9_b696_74d435ea1c75level0_row1\" class=\"row_heading level0 row1\" >Survived</th> \n",
       "        <td id=\"T_fa2f1652_48af_11e9_b696_74d435ea1c75row1_col0\" class=\"data row1 col0\" >-0.00500666</td> \n",
       "        <td id=\"T_fa2f1652_48af_11e9_b696_74d435ea1c75row1_col1\" class=\"data row1 col1\" >1</td> \n",
       "        <td id=\"T_fa2f1652_48af_11e9_b696_74d435ea1c75row1_col2\" class=\"data row1 col2\" >-0.338481</td> \n",
       "        <td id=\"T_fa2f1652_48af_11e9_b696_74d435ea1c75row1_col3\" class=\"data row1 col3\" >-0.0698085</td> \n",
       "        <td id=\"T_fa2f1652_48af_11e9_b696_74d435ea1c75row1_col4\" class=\"data row1 col4\" >-0.0353225</td> \n",
       "        <td id=\"T_fa2f1652_48af_11e9_b696_74d435ea1c75row1_col5\" class=\"data row1 col5\" >0.0816294</td> \n",
       "        <td id=\"T_fa2f1652_48af_11e9_b696_74d435ea1c75row1_col6\" class=\"data row1 col6\" >0.257307</td> \n",
       "        <td id=\"T_fa2f1652_48af_11e9_b696_74d435ea1c75row1_col7\" class=\"data row1 col7\" >0.543351</td> \n",
       "        <td id=\"T_fa2f1652_48af_11e9_b696_74d435ea1c75row1_col8\" class=\"data row1 col8\" >-0.543351</td> \n",
       "        <td id=\"T_fa2f1652_48af_11e9_b696_74d435ea1c75row1_col9\" class=\"data row1 col9\" >0.16824</td> \n",
       "        <td id=\"T_fa2f1652_48af_11e9_b696_74d435ea1c75row1_col10\" class=\"data row1 col10\" >0.00365038</td> \n",
       "        <td id=\"T_fa2f1652_48af_11e9_b696_74d435ea1c75row1_col11\" class=\"data row1 col11\" >-0.149683</td> \n",
       "    </tr>    <tr> \n",
       "        <th id=\"T_fa2f1652_48af_11e9_b696_74d435ea1c75level0_row2\" class=\"row_heading level0 row2\" >Pclass</th> \n",
       "        <td id=\"T_fa2f1652_48af_11e9_b696_74d435ea1c75row2_col0\" class=\"data row2 col0\" >-0.035144</td> \n",
       "        <td id=\"T_fa2f1652_48af_11e9_b696_74d435ea1c75row2_col1\" class=\"data row2 col1\" >-0.338481</td> \n",
       "        <td id=\"T_fa2f1652_48af_11e9_b696_74d435ea1c75row2_col2\" class=\"data row2 col2\" >1</td> \n",
       "        <td id=\"T_fa2f1652_48af_11e9_b696_74d435ea1c75row2_col3\" class=\"data row2 col3\" >-0.331339</td> \n",
       "        <td id=\"T_fa2f1652_48af_11e9_b696_74d435ea1c75row2_col4\" class=\"data row2 col4\" >0.0830814</td> \n",
       "        <td id=\"T_fa2f1652_48af_11e9_b696_74d435ea1c75row2_col5\" class=\"data row2 col5\" >0.0184427</td> \n",
       "        <td id=\"T_fa2f1652_48af_11e9_b696_74d435ea1c75row2_col6\" class=\"data row2 col6\" >-0.5495</td> \n",
       "        <td id=\"T_fa2f1652_48af_11e9_b696_74d435ea1c75row2_col7\" class=\"data row2 col7\" >-0.1319</td> \n",
       "        <td id=\"T_fa2f1652_48af_11e9_b696_74d435ea1c75row2_col8\" class=\"data row2 col8\" >0.1319</td> \n",
       "        <td id=\"T_fa2f1652_48af_11e9_b696_74d435ea1c75row2_col9\" class=\"data row2 col9\" >-0.243292</td> \n",
       "        <td id=\"T_fa2f1652_48af_11e9_b696_74d435ea1c75row2_col10\" class=\"data row2 col10\" >0.221009</td> \n",
       "        <td id=\"T_fa2f1652_48af_11e9_b696_74d435ea1c75row2_col11\" class=\"data row2 col11\" >0.0740528</td> \n",
       "    </tr>    <tr> \n",
       "        <th id=\"T_fa2f1652_48af_11e9_b696_74d435ea1c75level0_row3\" class=\"row_heading level0 row3\" >Age</th> \n",
       "        <td id=\"T_fa2f1652_48af_11e9_b696_74d435ea1c75row3_col0\" class=\"data row3 col0\" >0.0332065</td> \n",
       "        <td id=\"T_fa2f1652_48af_11e9_b696_74d435ea1c75row3_col1\" class=\"data row3 col1\" >-0.0698085</td> \n",
       "        <td id=\"T_fa2f1652_48af_11e9_b696_74d435ea1c75row3_col2\" class=\"data row3 col2\" >-0.331339</td> \n",
       "        <td id=\"T_fa2f1652_48af_11e9_b696_74d435ea1c75row3_col3\" class=\"data row3 col3\" >1</td> \n",
       "        <td id=\"T_fa2f1652_48af_11e9_b696_74d435ea1c75row3_col4\" class=\"data row3 col4\" >-0.232625</td> \n",
       "        <td id=\"T_fa2f1652_48af_11e9_b696_74d435ea1c75row3_col5\" class=\"data row3 col5\" >-0.179191</td> \n",
       "        <td id=\"T_fa2f1652_48af_11e9_b696_74d435ea1c75row3_col6\" class=\"data row3 col6\" >0.0915661</td> \n",
       "        <td id=\"T_fa2f1652_48af_11e9_b696_74d435ea1c75row3_col7\" class=\"data row3 col7\" >-0.0841534</td> \n",
       "        <td id=\"T_fa2f1652_48af_11e9_b696_74d435ea1c75row3_col8\" class=\"data row3 col8\" >0.0841534</td> \n",
       "        <td id=\"T_fa2f1652_48af_11e9_b696_74d435ea1c75row3_col9\" class=\"data row3 col9\" >0.0320244</td> \n",
       "        <td id=\"T_fa2f1652_48af_11e9_b696_74d435ea1c75row3_col10\" class=\"data row3 col10\" >-0.0138552</td> \n",
       "        <td id=\"T_fa2f1652_48af_11e9_b696_74d435ea1c75row3_col11\" class=\"data row3 col11\" >-0.0193356</td> \n",
       "    </tr>    <tr> \n",
       "        <th id=\"T_fa2f1652_48af_11e9_b696_74d435ea1c75level0_row4\" class=\"row_heading level0 row4\" >SibSp</th> \n",
       "        <td id=\"T_fa2f1652_48af_11e9_b696_74d435ea1c75row4_col0\" class=\"data row4 col0\" >-0.0575268</td> \n",
       "        <td id=\"T_fa2f1652_48af_11e9_b696_74d435ea1c75row4_col1\" class=\"data row4 col1\" >-0.0353225</td> \n",
       "        <td id=\"T_fa2f1652_48af_11e9_b696_74d435ea1c75row4_col2\" class=\"data row4 col2\" >0.0830814</td> \n",
       "        <td id=\"T_fa2f1652_48af_11e9_b696_74d435ea1c75row4_col3\" class=\"data row4 col3\" >-0.232625</td> \n",
       "        <td id=\"T_fa2f1652_48af_11e9_b696_74d435ea1c75row4_col4\" class=\"data row4 col4\" >1</td> \n",
       "        <td id=\"T_fa2f1652_48af_11e9_b696_74d435ea1c75row4_col5\" class=\"data row4 col5\" >0.414838</td> \n",
       "        <td id=\"T_fa2f1652_48af_11e9_b696_74d435ea1c75row4_col6\" class=\"data row4 col6\" >0.159651</td> \n",
       "        <td id=\"T_fa2f1652_48af_11e9_b696_74d435ea1c75row4_col7\" class=\"data row4 col7\" >0.114631</td> \n",
       "        <td id=\"T_fa2f1652_48af_11e9_b696_74d435ea1c75row4_col8\" class=\"data row4 col8\" >-0.114631</td> \n",
       "        <td id=\"T_fa2f1652_48af_11e9_b696_74d435ea1c75row4_col9\" class=\"data row4 col9\" >-0.0595282</td> \n",
       "        <td id=\"T_fa2f1652_48af_11e9_b696_74d435ea1c75row4_col10\" class=\"data row4 col10\" >-0.0263537</td> \n",
       "        <td id=\"T_fa2f1652_48af_11e9_b696_74d435ea1c75row4_col11\" class=\"data row4 col11\" >0.0687336</td> \n",
       "    </tr>    <tr> \n",
       "        <th id=\"T_fa2f1652_48af_11e9_b696_74d435ea1c75level0_row5\" class=\"row_heading level0 row5\" >Parch</th> \n",
       "        <td id=\"T_fa2f1652_48af_11e9_b696_74d435ea1c75row5_col0\" class=\"data row5 col0\" >-0.00165201</td> \n",
       "        <td id=\"T_fa2f1652_48af_11e9_b696_74d435ea1c75row5_col1\" class=\"data row5 col1\" >0.0816294</td> \n",
       "        <td id=\"T_fa2f1652_48af_11e9_b696_74d435ea1c75row5_col2\" class=\"data row5 col2\" >0.0184427</td> \n",
       "        <td id=\"T_fa2f1652_48af_11e9_b696_74d435ea1c75row5_col3\" class=\"data row5 col3\" >-0.179191</td> \n",
       "        <td id=\"T_fa2f1652_48af_11e9_b696_74d435ea1c75row5_col4\" class=\"data row5 col4\" >0.414838</td> \n",
       "        <td id=\"T_fa2f1652_48af_11e9_b696_74d435ea1c75row5_col5\" class=\"data row5 col5\" >1</td> \n",
       "        <td id=\"T_fa2f1652_48af_11e9_b696_74d435ea1c75row5_col6\" class=\"data row5 col6\" >0.216225</td> \n",
       "        <td id=\"T_fa2f1652_48af_11e9_b696_74d435ea1c75row5_col7\" class=\"data row5 col7\" >0.245489</td> \n",
       "        <td id=\"T_fa2f1652_48af_11e9_b696_74d435ea1c75row5_col8\" class=\"data row5 col8\" >-0.245489</td> \n",
       "        <td id=\"T_fa2f1652_48af_11e9_b696_74d435ea1c75row5_col9\" class=\"data row5 col9\" >-0.0110688</td> \n",
       "        <td id=\"T_fa2f1652_48af_11e9_b696_74d435ea1c75row5_col10\" class=\"data row5 col10\" >-0.0812281</td> \n",
       "        <td id=\"T_fa2f1652_48af_11e9_b696_74d435ea1c75row5_col11\" class=\"data row5 col11\" >0.0608136</td> \n",
       "    </tr>    <tr> \n",
       "        <th id=\"T_fa2f1652_48af_11e9_b696_74d435ea1c75level0_row6\" class=\"row_heading level0 row6\" >Fare</th> \n",
       "        <td id=\"T_fa2f1652_48af_11e9_b696_74d435ea1c75row6_col0\" class=\"data row6 col0\" >0.0126582</td> \n",
       "        <td id=\"T_fa2f1652_48af_11e9_b696_74d435ea1c75row6_col1\" class=\"data row6 col1\" >0.257307</td> \n",
       "        <td id=\"T_fa2f1652_48af_11e9_b696_74d435ea1c75row6_col2\" class=\"data row6 col2\" >-0.5495</td> \n",
       "        <td id=\"T_fa2f1652_48af_11e9_b696_74d435ea1c75row6_col3\" class=\"data row6 col3\" >0.0915661</td> \n",
       "        <td id=\"T_fa2f1652_48af_11e9_b696_74d435ea1c75row6_col4\" class=\"data row6 col4\" >0.159651</td> \n",
       "        <td id=\"T_fa2f1652_48af_11e9_b696_74d435ea1c75row6_col5\" class=\"data row6 col5\" >0.216225</td> \n",
       "        <td id=\"T_fa2f1652_48af_11e9_b696_74d435ea1c75row6_col6\" class=\"data row6 col6\" >1</td> \n",
       "        <td id=\"T_fa2f1652_48af_11e9_b696_74d435ea1c75row6_col7\" class=\"data row6 col7\" >0.182333</td> \n",
       "        <td id=\"T_fa2f1652_48af_11e9_b696_74d435ea1c75row6_col8\" class=\"data row6 col8\" >-0.182333</td> \n",
       "        <td id=\"T_fa2f1652_48af_11e9_b696_74d435ea1c75row6_col9\" class=\"data row6 col9\" >0.269335</td> \n",
       "        <td id=\"T_fa2f1652_48af_11e9_b696_74d435ea1c75row6_col10\" class=\"data row6 col10\" >-0.117216</td> \n",
       "        <td id=\"T_fa2f1652_48af_11e9_b696_74d435ea1c75row6_col11\" class=\"data row6 col11\" >-0.162184</td> \n",
       "    </tr>    <tr> \n",
       "        <th id=\"T_fa2f1652_48af_11e9_b696_74d435ea1c75level0_row7\" class=\"row_heading level0 row7\" >Sex_female</th> \n",
       "        <td id=\"T_fa2f1652_48af_11e9_b696_74d435ea1c75row7_col0\" class=\"data row7 col0\" >-0.0429389</td> \n",
       "        <td id=\"T_fa2f1652_48af_11e9_b696_74d435ea1c75row7_col1\" class=\"data row7 col1\" >0.543351</td> \n",
       "        <td id=\"T_fa2f1652_48af_11e9_b696_74d435ea1c75row7_col2\" class=\"data row7 col2\" >-0.1319</td> \n",
       "        <td id=\"T_fa2f1652_48af_11e9_b696_74d435ea1c75row7_col3\" class=\"data row7 col3\" >-0.0841534</td> \n",
       "        <td id=\"T_fa2f1652_48af_11e9_b696_74d435ea1c75row7_col4\" class=\"data row7 col4\" >0.114631</td> \n",
       "        <td id=\"T_fa2f1652_48af_11e9_b696_74d435ea1c75row7_col5\" class=\"data row7 col5\" >0.245489</td> \n",
       "        <td id=\"T_fa2f1652_48af_11e9_b696_74d435ea1c75row7_col6\" class=\"data row7 col6\" >0.182333</td> \n",
       "        <td id=\"T_fa2f1652_48af_11e9_b696_74d435ea1c75row7_col7\" class=\"data row7 col7\" >1</td> \n",
       "        <td id=\"T_fa2f1652_48af_11e9_b696_74d435ea1c75row7_col8\" class=\"data row7 col8\" >-1</td> \n",
       "        <td id=\"T_fa2f1652_48af_11e9_b696_74d435ea1c75row7_col9\" class=\"data row7 col9\" >0.0828535</td> \n",
       "        <td id=\"T_fa2f1652_48af_11e9_b696_74d435ea1c75row7_col10\" class=\"data row7 col10\" >0.0741151</td> \n",
       "        <td id=\"T_fa2f1652_48af_11e9_b696_74d435ea1c75row7_col11\" class=\"data row7 col11\" >-0.119224</td> \n",
       "    </tr>    <tr> \n",
       "        <th id=\"T_fa2f1652_48af_11e9_b696_74d435ea1c75level0_row8\" class=\"row_heading level0 row8\" >Sex_male</th> \n",
       "        <td id=\"T_fa2f1652_48af_11e9_b696_74d435ea1c75row8_col0\" class=\"data row8 col0\" >0.0429389</td> \n",
       "        <td id=\"T_fa2f1652_48af_11e9_b696_74d435ea1c75row8_col1\" class=\"data row8 col1\" >-0.543351</td> \n",
       "        <td id=\"T_fa2f1652_48af_11e9_b696_74d435ea1c75row8_col2\" class=\"data row8 col2\" >0.1319</td> \n",
       "        <td id=\"T_fa2f1652_48af_11e9_b696_74d435ea1c75row8_col3\" class=\"data row8 col3\" >0.0841534</td> \n",
       "        <td id=\"T_fa2f1652_48af_11e9_b696_74d435ea1c75row8_col4\" class=\"data row8 col4\" >-0.114631</td> \n",
       "        <td id=\"T_fa2f1652_48af_11e9_b696_74d435ea1c75row8_col5\" class=\"data row8 col5\" >-0.245489</td> \n",
       "        <td id=\"T_fa2f1652_48af_11e9_b696_74d435ea1c75row8_col6\" class=\"data row8 col6\" >-0.182333</td> \n",
       "        <td id=\"T_fa2f1652_48af_11e9_b696_74d435ea1c75row8_col7\" class=\"data row8 col7\" >-1</td> \n",
       "        <td id=\"T_fa2f1652_48af_11e9_b696_74d435ea1c75row8_col8\" class=\"data row8 col8\" >1</td> \n",
       "        <td id=\"T_fa2f1652_48af_11e9_b696_74d435ea1c75row8_col9\" class=\"data row8 col9\" >-0.0828535</td> \n",
       "        <td id=\"T_fa2f1652_48af_11e9_b696_74d435ea1c75row8_col10\" class=\"data row8 col10\" >-0.0741151</td> \n",
       "        <td id=\"T_fa2f1652_48af_11e9_b696_74d435ea1c75row8_col11\" class=\"data row8 col11\" >0.119224</td> \n",
       "    </tr>    <tr> \n",
       "        <th id=\"T_fa2f1652_48af_11e9_b696_74d435ea1c75level0_row9\" class=\"row_heading level0 row9\" >Embarked_C</th> \n",
       "        <td id=\"T_fa2f1652_48af_11e9_b696_74d435ea1c75row9_col0\" class=\"data row9 col0\" >-0.0012048</td> \n",
       "        <td id=\"T_fa2f1652_48af_11e9_b696_74d435ea1c75row9_col1\" class=\"data row9 col1\" >0.16824</td> \n",
       "        <td id=\"T_fa2f1652_48af_11e9_b696_74d435ea1c75row9_col2\" class=\"data row9 col2\" >-0.243292</td> \n",
       "        <td id=\"T_fa2f1652_48af_11e9_b696_74d435ea1c75row9_col3\" class=\"data row9 col3\" >0.0320244</td> \n",
       "        <td id=\"T_fa2f1652_48af_11e9_b696_74d435ea1c75row9_col4\" class=\"data row9 col4\" >-0.0595282</td> \n",
       "        <td id=\"T_fa2f1652_48af_11e9_b696_74d435ea1c75row9_col5\" class=\"data row9 col5\" >-0.0110688</td> \n",
       "        <td id=\"T_fa2f1652_48af_11e9_b696_74d435ea1c75row9_col6\" class=\"data row9 col6\" >0.269335</td> \n",
       "        <td id=\"T_fa2f1652_48af_11e9_b696_74d435ea1c75row9_col7\" class=\"data row9 col7\" >0.0828535</td> \n",
       "        <td id=\"T_fa2f1652_48af_11e9_b696_74d435ea1c75row9_col8\" class=\"data row9 col8\" >-0.0828535</td> \n",
       "        <td id=\"T_fa2f1652_48af_11e9_b696_74d435ea1c75row9_col9\" class=\"data row9 col9\" >1</td> \n",
       "        <td id=\"T_fa2f1652_48af_11e9_b696_74d435ea1c75row9_col10\" class=\"data row9 col10\" >-0.148258</td> \n",
       "        <td id=\"T_fa2f1652_48af_11e9_b696_74d435ea1c75row9_col11\" class=\"data row9 col11\" >-0.782742</td> \n",
       "    </tr>    <tr> \n",
       "        <th id=\"T_fa2f1652_48af_11e9_b696_74d435ea1c75level0_row10\" class=\"row_heading level0 row10\" >Embarked_Q</th> \n",
       "        <td id=\"T_fa2f1652_48af_11e9_b696_74d435ea1c75row10_col0\" class=\"data row10 col0\" >-0.0336057</td> \n",
       "        <td id=\"T_fa2f1652_48af_11e9_b696_74d435ea1c75row10_col1\" class=\"data row10 col1\" >0.00365038</td> \n",
       "        <td id=\"T_fa2f1652_48af_11e9_b696_74d435ea1c75row10_col2\" class=\"data row10 col2\" >0.221009</td> \n",
       "        <td id=\"T_fa2f1652_48af_11e9_b696_74d435ea1c75row10_col3\" class=\"data row10 col3\" >-0.0138552</td> \n",
       "        <td id=\"T_fa2f1652_48af_11e9_b696_74d435ea1c75row10_col4\" class=\"data row10 col4\" >-0.0263537</td> \n",
       "        <td id=\"T_fa2f1652_48af_11e9_b696_74d435ea1c75row10_col5\" class=\"data row10 col5\" >-0.0812281</td> \n",
       "        <td id=\"T_fa2f1652_48af_11e9_b696_74d435ea1c75row10_col6\" class=\"data row10 col6\" >-0.117216</td> \n",
       "        <td id=\"T_fa2f1652_48af_11e9_b696_74d435ea1c75row10_col7\" class=\"data row10 col7\" >0.0741151</td> \n",
       "        <td id=\"T_fa2f1652_48af_11e9_b696_74d435ea1c75row10_col8\" class=\"data row10 col8\" >-0.0741151</td> \n",
       "        <td id=\"T_fa2f1652_48af_11e9_b696_74d435ea1c75row10_col9\" class=\"data row10 col9\" >-0.148258</td> \n",
       "        <td id=\"T_fa2f1652_48af_11e9_b696_74d435ea1c75row10_col10\" class=\"data row10 col10\" >1</td> \n",
       "        <td id=\"T_fa2f1652_48af_11e9_b696_74d435ea1c75row10_col11\" class=\"data row10 col11\" >-0.499421</td> \n",
       "    </tr>    <tr> \n",
       "        <th id=\"T_fa2f1652_48af_11e9_b696_74d435ea1c75level0_row11\" class=\"row_heading level0 row11\" >Embarked_S</th> \n",
       "        <td id=\"T_fa2f1652_48af_11e9_b696_74d435ea1c75row11_col0\" class=\"data row11 col0\" >0.0222035</td> \n",
       "        <td id=\"T_fa2f1652_48af_11e9_b696_74d435ea1c75row11_col1\" class=\"data row11 col1\" >-0.149683</td> \n",
       "        <td id=\"T_fa2f1652_48af_11e9_b696_74d435ea1c75row11_col2\" class=\"data row11 col2\" >0.0740528</td> \n",
       "        <td id=\"T_fa2f1652_48af_11e9_b696_74d435ea1c75row11_col3\" class=\"data row11 col3\" >-0.0193356</td> \n",
       "        <td id=\"T_fa2f1652_48af_11e9_b696_74d435ea1c75row11_col4\" class=\"data row11 col4\" >0.0687336</td> \n",
       "        <td id=\"T_fa2f1652_48af_11e9_b696_74d435ea1c75row11_col5\" class=\"data row11 col5\" >0.0608136</td> \n",
       "        <td id=\"T_fa2f1652_48af_11e9_b696_74d435ea1c75row11_col6\" class=\"data row11 col6\" >-0.162184</td> \n",
       "        <td id=\"T_fa2f1652_48af_11e9_b696_74d435ea1c75row11_col7\" class=\"data row11 col7\" >-0.119224</td> \n",
       "        <td id=\"T_fa2f1652_48af_11e9_b696_74d435ea1c75row11_col8\" class=\"data row11 col8\" >0.119224</td> \n",
       "        <td id=\"T_fa2f1652_48af_11e9_b696_74d435ea1c75row11_col9\" class=\"data row11 col9\" >-0.782742</td> \n",
       "        <td id=\"T_fa2f1652_48af_11e9_b696_74d435ea1c75row11_col10\" class=\"data row11 col10\" >-0.499421</td> \n",
       "        <td id=\"T_fa2f1652_48af_11e9_b696_74d435ea1c75row11_col11\" class=\"data row11 col11\" >1</td> \n",
       "    </tr></tbody> \n",
       "</table> "
      ],
      "text/plain": [
       "<pandas.io.formats.style.Styler at 0x238124b10b8>"
      ]
     },
     "execution_count": 473,
     "metadata": {},
     "output_type": "execute_result"
    }
   ],
   "source": [
    "dataset.corr().style.background_gradient(cmap='coolwarm')"
   ]
  },
  {
   "cell_type": "markdown",
   "metadata": {},
   "source": [
    "Es interesante estudiar la correlación de sobrevivir con el resto, donde ser mujer resulta en el factor más decisivo"
   ]
  },
  {
   "cell_type": "markdown",
   "metadata": {},
   "source": [
    "El siguiente paso ya es el entrenamiento de Machine Learning:"
   ]
  },
  {
   "cell_type": "markdown",
   "metadata": {},
   "source": [
    "1) Decission Tree Classifier"
   ]
  },
  {
   "cell_type": "code",
   "execution_count": 474,
   "metadata": {},
   "outputs": [],
   "source": [
    "from sklearn import tree"
   ]
  },
  {
   "cell_type": "code",
   "execution_count": 475,
   "metadata": {},
   "outputs": [],
   "source": [
    "# Instanciación del algoritmo\n",
    "\n",
    "tree = tree.DecisionTreeClassifier()"
   ]
  },
  {
   "cell_type": "code",
   "execution_count": 476,
   "metadata": {},
   "outputs": [],
   "source": [
    "# Entrenamiento del algoritmo\n",
    "\n",
    "model_tree = tree.fit(x_train, y_train)"
   ]
  },
  {
   "cell_type": "code",
   "execution_count": 477,
   "metadata": {},
   "outputs": [
    {
     "name": "stdout",
     "output_type": "stream",
     "text": [
      "predicho  real\n",
      "0         0       361\n",
      "          1         7\n",
      "1         0         1\n",
      "          1       227\n",
      "dtype: int64\n",
      " \n",
      "predicho  real\n",
      "0         0       158\n",
      "          1        35\n",
      "1         0        29\n",
      "          1        73\n",
      "dtype: int64\n"
     ]
    }
   ],
   "source": [
    "#Matriz de confusión de entrenamiento\n",
    "predicciones = pd.DataFrame(list(zip(model_tree.predict(x_train), y_train)), columns=['predicho', 'real'])\n",
    "matriz_conf = predicciones.groupby(['predicho', 'real']).apply(lambda x: len(x))\n",
    "print(matriz_conf)\n",
    "\n",
    "print(\" \")\n",
    "\n",
    "# Matriz de confusión de test\n",
    "\n",
    "predicciones = pd.DataFrame(list(zip(model_tree.predict(x_test), y_test)), columns=['predicho', 'real'])\n",
    "matriz_conf_test = predicciones.groupby(['predicho', 'real']).apply(lambda x: len(x))\n",
    "print(matriz_conf_test)"
   ]
  },
  {
   "cell_type": "markdown",
   "metadata": {},
   "source": [
    "Como se puede observar, en entrenamiento: predicho muerto y real muerto hay 361 casos, mientras que se prediga que muerto y sobreviviera en realidad hay solo 7.\n",
    "Por otra parte, predicho que sobreviviera y en realidad muriera solo hay 1, mientras que si se clasificó como superviviente y la realidad es que sobrevivió se da en 227 casos.\n",
    "\n",
    "En cambio, se puede ver que en test no ha obtenido tan buenos resultados, acertando solo en 159+71 de los casos, y fallando en 37+28 de los casos"
   ]
  },
  {
   "cell_type": "code",
   "execution_count": 478,
   "metadata": {},
   "outputs": [
    {
     "name": "stdout",
     "output_type": "stream",
     "text": [
      "Precisión sobre el conjunto de entrenamiento: 0.99\n",
      "Precisión sobre el conjunto de test: 0.78\n"
     ]
    }
   ],
   "source": [
    "# Precisión\n",
    "\n",
    "print('Precisión sobre el conjunto de entrenamiento: {:.2f}' .format(model_tree.score(x_train, y_train)))\n",
    "print('Precisión sobre el conjunto de test: {:.2f}' .format(model_tree.score(x_test, y_test)))\n",
    "\n",
    "precisiones['tree'] = model_tree.score(x_test, y_test)"
   ]
  },
  {
   "cell_type": "markdown",
   "metadata": {},
   "source": [
    "2) SGD Classifier"
   ]
  },
  {
   "cell_type": "code",
   "execution_count": 479,
   "metadata": {},
   "outputs": [],
   "source": [
    "from sklearn.linear_model import SGDClassifier"
   ]
  },
  {
   "cell_type": "code",
   "execution_count": 480,
   "metadata": {},
   "outputs": [],
   "source": [
    "# Instancio\n",
    "sgd = SGDClassifier()"
   ]
  },
  {
   "cell_type": "code",
   "execution_count": 481,
   "metadata": {},
   "outputs": [
    {
     "name": "stderr",
     "output_type": "stream",
     "text": [
      "D:\\Users\\jorge\\Anaconda3\\lib\\site-packages\\sklearn\\linear_model\\stochastic_gradient.py:166: FutureWarning: max_iter and tol parameters have been added in SGDClassifier in 0.19. If both are left unset, they default to max_iter=5 and tol=None. If tol is not None, max_iter defaults to max_iter=1000. From 0.21, default max_iter will be 1000, and default tol will be 1e-3.\n",
      "  FutureWarning)\n"
     ]
    }
   ],
   "source": [
    "#Entreno\n",
    "model_sgd = sgd.fit(x_train, y_train)"
   ]
  },
  {
   "cell_type": "code",
   "execution_count": 482,
   "metadata": {},
   "outputs": [
    {
     "name": "stdout",
     "output_type": "stream",
     "text": [
      "Precisión de SGD sobre el entrenamiento: 0.61\n",
      "Precisión de SGD sobre el test: 0.63\n"
     ]
    }
   ],
   "source": [
    "print('Precisión de SGD sobre el entrenamiento: {:.2f}' .format(model_sgd.score(x_train, y_train)))\n",
    "print('Precisión de SGD sobre el test: {:.2f}'.format(model_sgd.score(x_test, y_test)))\n",
    "\n",
    "precisiones['SGD'] = model_sgd.score(x_test, y_test)"
   ]
  },
  {
   "cell_type": "markdown",
   "metadata": {},
   "source": [
    "3) Ridge Classifier"
   ]
  },
  {
   "cell_type": "code",
   "execution_count": 483,
   "metadata": {},
   "outputs": [],
   "source": [
    "from sklearn.linear_model import RidgeClassifier"
   ]
  },
  {
   "cell_type": "code",
   "execution_count": 484,
   "metadata": {},
   "outputs": [],
   "source": [
    "ridge = RidgeClassifier()"
   ]
  },
  {
   "cell_type": "code",
   "execution_count": 485,
   "metadata": {},
   "outputs": [],
   "source": [
    "model_ridge = ridge.fit(x_train, y_train)"
   ]
  },
  {
   "cell_type": "code",
   "execution_count": 486,
   "metadata": {},
   "outputs": [
    {
     "name": "stdout",
     "output_type": "stream",
     "text": [
      "Precisión de Ridge sobre entrenamiento: 0.77\n",
      "Precisión de Ridge sobre test: 0.82\n"
     ]
    }
   ],
   "source": [
    "print('Precisión de Ridge sobre entrenamiento: {:.2f}'.format(model_ridge.score(x_train, y_train)))\n",
    "print('Precisión de Ridge sobre test: {:.2f}'.format(model_ridge.score(x_test, y_test)))\n",
    "\n",
    "precisiones['Ridge'] = model_ridge.score(x_test, y_test)"
   ]
  },
  {
   "cell_type": "markdown",
   "metadata": {},
   "source": [
    "4) KNN"
   ]
  },
  {
   "cell_type": "code",
   "execution_count": 487,
   "metadata": {},
   "outputs": [],
   "source": [
    "from sklearn.neighbors import KNeighborsClassifier"
   ]
  },
  {
   "cell_type": "code",
   "execution_count": 488,
   "metadata": {},
   "outputs": [],
   "source": [
    "knn = KNeighborsClassifier()"
   ]
  },
  {
   "cell_type": "code",
   "execution_count": 489,
   "metadata": {},
   "outputs": [],
   "source": [
    "model_knn = knn.fit(x_train, y_train)"
   ]
  },
  {
   "cell_type": "code",
   "execution_count": 490,
   "metadata": {},
   "outputs": [
    {
     "name": "stdout",
     "output_type": "stream",
     "text": [
      "Precisión de KNN sobre el conjunto de entrenamiento: 0.79\n",
      "Precisión de KNN sobre el conjunto de test: 0.75\n"
     ]
    }
   ],
   "source": [
    "print('Precisión de KNN sobre el conjunto de entrenamiento: {:.2f}' .format(model_knn.score(x_train, y_train)))\n",
    "print('Precisión de KNN sobre el conjunto de test: {:.2f}' .format(model_knn.score(x_test, y_test)))"
   ]
  },
  {
   "cell_type": "code",
   "execution_count": 491,
   "metadata": {},
   "outputs": [],
   "source": [
    "# Voy a cambiar el n_neighbours. sqrt(total) suele ser la mejor opción\n",
    "import math "
   ]
  },
  {
   "cell_type": "code",
   "execution_count": 492,
   "metadata": {},
   "outputs": [],
   "source": [
    "sqrt_total = math.sqrt(x_train.shape[0])"
   ]
  },
  {
   "cell_type": "code",
   "execution_count": 493,
   "metadata": {},
   "outputs": [],
   "source": [
    "knn = KNeighborsClassifier(n_neighbors=int(sqrt_total))"
   ]
  },
  {
   "cell_type": "code",
   "execution_count": 494,
   "metadata": {},
   "outputs": [],
   "source": [
    "model_knn = knn.fit(x_train, y_train)"
   ]
  },
  {
   "cell_type": "code",
   "execution_count": 495,
   "metadata": {},
   "outputs": [
    {
     "name": "stdout",
     "output_type": "stream",
     "text": [
      "Precisión de KNN sobre el conjunto de entrenamiento: 0.70\n",
      "Precisión de KNN sobre el conjunto de test: 0.72\n"
     ]
    }
   ],
   "source": [
    "print('Precisión de KNN sobre el conjunto de entrenamiento: {:.2f}' .format(model_knn.score(x_train, y_train)))\n",
    "print('Precisión de KNN sobre el conjunto de test: {:.2f}' .format(model_knn.score(x_test, y_test)))"
   ]
  },
  {
   "cell_type": "markdown",
   "metadata": {},
   "source": [
    "Se ve que no mejora"
   ]
  },
  {
   "cell_type": "code",
   "execution_count": 496,
   "metadata": {},
   "outputs": [],
   "source": [
    "# Voy a hacer un bucle para encontrar el mejor k\n",
    "scores = []\n",
    "\n",
    "for k in range(1,50):\n",
    "    knn = KNeighborsClassifier(n_neighbors=k)\n",
    "    model_knn = knn.fit(x_train, y_train)\n",
    "    scores.append(model_knn.score(x_test, y_test))"
   ]
  },
  {
   "cell_type": "code",
   "execution_count": 497,
   "metadata": {},
   "outputs": [
    {
     "name": "stdout",
     "output_type": "stream",
     "text": [
      "0.7457627118644068\n"
     ]
    },
    {
     "data": {
      "text/plain": [
       "4"
      ]
     },
     "execution_count": 497,
     "metadata": {},
     "output_type": "execute_result"
    }
   ],
   "source": [
    "print(max(scores))\n",
    "\n",
    "scores.index(max(scores))"
   ]
  },
  {
   "cell_type": "code",
   "execution_count": 498,
   "metadata": {},
   "outputs": [],
   "source": [
    "precisiones['KNN'] = max(scores)"
   ]
  },
  {
   "cell_type": "markdown",
   "metadata": {},
   "source": [
    "Por lo tanto, el K óptimo era el que venía por defecto, k = 5"
   ]
  },
  {
   "cell_type": "markdown",
   "metadata": {},
   "source": [
    "5) Random Forest"
   ]
  },
  {
   "cell_type": "code",
   "execution_count": 499,
   "metadata": {},
   "outputs": [],
   "source": [
    "from sklearn.ensemble import RandomForestClassifier"
   ]
  },
  {
   "cell_type": "code",
   "execution_count": 500,
   "metadata": {},
   "outputs": [],
   "source": [
    "random_forest = RandomForestClassifier()"
   ]
  },
  {
   "cell_type": "code",
   "execution_count": 501,
   "metadata": {},
   "outputs": [
    {
     "name": "stderr",
     "output_type": "stream",
     "text": [
      "D:\\Users\\jorge\\Anaconda3\\lib\\site-packages\\sklearn\\ensemble\\forest.py:246: FutureWarning: The default value of n_estimators will change from 10 in version 0.20 to 100 in 0.22.\n",
      "  \"10 in version 0.20 to 100 in 0.22.\", FutureWarning)\n"
     ]
    }
   ],
   "source": [
    "model_random_forest = random_forest.fit(x_train, y_train)"
   ]
  },
  {
   "cell_type": "code",
   "execution_count": 502,
   "metadata": {},
   "outputs": [
    {
     "name": "stdout",
     "output_type": "stream",
     "text": [
      "Precisión de Random Forest para el conjunto de entrenamiento: 0.97\n",
      "Precisión de Random Forest para el conjunto de test: 0.83\n"
     ]
    }
   ],
   "source": [
    "print('Precisión de Random Forest para el conjunto de entrenamiento: {:.2f}' .format(model_random_forest.score(x_train, y_train)))\n",
    "print('Precisión de Random Forest para el conjunto de test: {:.2f}' .format(model_random_forest.score(x_test, y_test)))\n",
    "\n",
    "precisiones['RF'] = model_random_forest.score(x_test, y_test)"
   ]
  },
  {
   "cell_type": "markdown",
   "metadata": {},
   "source": [
    "6) Gradient Boosting"
   ]
  },
  {
   "cell_type": "code",
   "execution_count": 503,
   "metadata": {},
   "outputs": [],
   "source": [
    "from sklearn.ensemble import GradientBoostingClassifier"
   ]
  },
  {
   "cell_type": "code",
   "execution_count": 504,
   "metadata": {},
   "outputs": [],
   "source": [
    "gb = GradientBoostingClassifier()"
   ]
  },
  {
   "cell_type": "code",
   "execution_count": 505,
   "metadata": {},
   "outputs": [],
   "source": [
    "model_gb = gb.fit(x_train, y_train)"
   ]
  },
  {
   "cell_type": "code",
   "execution_count": 506,
   "metadata": {},
   "outputs": [
    {
     "name": "stdout",
     "output_type": "stream",
     "text": [
      "Precisión de Gradient Boosting sobre el entrenamiento: 0.91\n",
      "Precisión de Gradient Boosting sobre el test: 0.82\n"
     ]
    }
   ],
   "source": [
    "print('Precisión de Gradient Boosting sobre el entrenamiento: {:.2f}' .format(model_gb.score(x_train, y_train)))\n",
    "print('Precisión de Gradient Boosting sobre el test: {:.2f}' .format(model_gb.score(x_test, y_test)))\n",
    "\n",
    "precisiones['GB'] = model_gb.score(x_test, y_test)"
   ]
  },
  {
   "cell_type": "markdown",
   "metadata": {},
   "source": [
    "7) Predicción por Regresión Lineal (leer conclusión final)"
   ]
  },
  {
   "cell_type": "code",
   "execution_count": 507,
   "metadata": {},
   "outputs": [],
   "source": [
    "from sklearn.linear_model import LinearRegression"
   ]
  },
  {
   "cell_type": "code",
   "execution_count": 508,
   "metadata": {},
   "outputs": [],
   "source": [
    "rl = LinearRegression()"
   ]
  },
  {
   "cell_type": "code",
   "execution_count": 509,
   "metadata": {},
   "outputs": [],
   "source": [
    "model_rl = rl.fit(x_train, y_train)"
   ]
  },
  {
   "cell_type": "code",
   "execution_count": 510,
   "metadata": {},
   "outputs": [
    {
     "data": {
      "text/plain": [
       "array([-0.00283751, -0.05525248, -0.03370509,  0.00197586,  0.25959218,\n",
       "       -0.25959218,  0.04999915, -0.02450496, -0.02549419])"
      ]
     },
     "execution_count": 510,
     "metadata": {},
     "output_type": "execute_result"
    }
   ],
   "source": [
    "model_rl.coef_"
   ]
  },
  {
   "cell_type": "code",
   "execution_count": 511,
   "metadata": {},
   "outputs": [
    {
     "data": {
      "text/html": [
       "<div>\n",
       "<style scoped>\n",
       "    .dataframe tbody tr th:only-of-type {\n",
       "        vertical-align: middle;\n",
       "    }\n",
       "\n",
       "    .dataframe tbody tr th {\n",
       "        vertical-align: top;\n",
       "    }\n",
       "\n",
       "    .dataframe thead th {\n",
       "        text-align: right;\n",
       "    }\n",
       "</style>\n",
       "<table border=\"1\" class=\"dataframe\">\n",
       "  <thead>\n",
       "    <tr style=\"text-align: right;\">\n",
       "      <th></th>\n",
       "      <th>columns</th>\n",
       "      <th>coefs</th>\n",
       "    </tr>\n",
       "  </thead>\n",
       "  <tbody>\n",
       "    <tr>\n",
       "      <th>0</th>\n",
       "      <td>Age</td>\n",
       "      <td>-0.002838</td>\n",
       "    </tr>\n",
       "    <tr>\n",
       "      <th>1</th>\n",
       "      <td>SibSp</td>\n",
       "      <td>-0.055252</td>\n",
       "    </tr>\n",
       "    <tr>\n",
       "      <th>2</th>\n",
       "      <td>Parch</td>\n",
       "      <td>-0.033705</td>\n",
       "    </tr>\n",
       "    <tr>\n",
       "      <th>3</th>\n",
       "      <td>Fare</td>\n",
       "      <td>0.001976</td>\n",
       "    </tr>\n",
       "    <tr>\n",
       "      <th>4</th>\n",
       "      <td>Sex_female</td>\n",
       "      <td>0.259592</td>\n",
       "    </tr>\n",
       "    <tr>\n",
       "      <th>5</th>\n",
       "      <td>Sex_male</td>\n",
       "      <td>-0.259592</td>\n",
       "    </tr>\n",
       "    <tr>\n",
       "      <th>6</th>\n",
       "      <td>Embarked_C</td>\n",
       "      <td>0.049999</td>\n",
       "    </tr>\n",
       "    <tr>\n",
       "      <th>7</th>\n",
       "      <td>Embarked_Q</td>\n",
       "      <td>-0.024505</td>\n",
       "    </tr>\n",
       "    <tr>\n",
       "      <th>8</th>\n",
       "      <td>Embarked_S</td>\n",
       "      <td>-0.025494</td>\n",
       "    </tr>\n",
       "  </tbody>\n",
       "</table>\n",
       "</div>"
      ],
      "text/plain": [
       "      columns     coefs\n",
       "0         Age -0.002838\n",
       "1       SibSp -0.055252\n",
       "2       Parch -0.033705\n",
       "3        Fare  0.001976\n",
       "4  Sex_female  0.259592\n",
       "5    Sex_male -0.259592\n",
       "6  Embarked_C  0.049999\n",
       "7  Embarked_Q -0.024505\n",
       "8  Embarked_S -0.025494"
      ]
     },
     "execution_count": 511,
     "metadata": {},
     "output_type": "execute_result"
    }
   ],
   "source": [
    "pd.DataFrame({'columns': dataset.columns[3:12], 'coefs': model_rl.coef_})"
   ]
  },
  {
   "cell_type": "code",
   "execution_count": 512,
   "metadata": {},
   "outputs": [
    {
     "data": {
      "text/plain": [
       "0.5302767363537286"
      ]
     },
     "execution_count": 512,
     "metadata": {},
     "output_type": "execute_result"
    }
   ],
   "source": [
    "model_rl.intercept_"
   ]
  },
  {
   "cell_type": "code",
   "execution_count": 513,
   "metadata": {},
   "outputs": [],
   "source": [
    "import matplotlib.pyplot as plt"
   ]
  },
  {
   "cell_type": "code",
   "execution_count": 514,
   "metadata": {},
   "outputs": [
    {
     "name": "stdout",
     "output_type": "stream",
     "text": [
      "0.36232419102476454\n"
     ]
    }
   ],
   "source": [
    "y_pred = model_rl.predict(x_test)\n",
    "\n",
    "from sklearn.metrics import r2_score\n",
    "\n",
    "print(r2_score(y_test, y_pred)) # Correlación bastante baja\n",
    "\n",
    "precisiones['Regresion'] = r2_score(y_test, y_pred)"
   ]
  },
  {
   "cell_type": "code",
   "execution_count": 515,
   "metadata": {},
   "outputs": [
    {
     "data": {
      "image/png": "[encoded data removed]",
      "text/plain": [
       "<Figure size 432x288 with 1 Axes>"
      ]
     },
     "metadata": {
      "needs_background": "light"
     },
     "output_type": "display_data"
    }
   ],
   "source": [
    "plt.scatter(y_test, y_pred)\n",
    "plt.xlabel(\"Vivo o muerto?\")\n",
    "plt.ylabel(\"Predichos\")\n",
    "plt.title(\"Correlación\")\n",
    "plt.show()"
   ]
  },
  {
   "cell_type": "markdown",
   "metadata": {},
   "source": [
    "Como se puede observar, esto no tiene demasiado sentido puesto que la variable no es continua, sino discreta. De todas maneras, es interesante observar como los que de verdad vivieron\n",
    "tienen unas predicciones más altas que los que de verdad murieron, que las tienen más bajas."
   ]
  },
  {
   "cell_type": "markdown",
   "metadata": {},
   "source": [
    "Vamos a ver un poco con las Andrews Curves y las coordenadas paralelas si se pueden apreciar diferencias entre los que sobrevivieron y los que no..."
   ]
  },
  {
   "cell_type": "code",
   "execution_count": 516,
   "metadata": {},
   "outputs": [
    {
     "data": {
      "image/png": "[encoded data removed]",
      "text/plain": [
       "<Figure size 432x288 with 1 Axes>"
      ]
     },
     "metadata": {
      "needs_background": "light"
     },
     "output_type": "display_data"
    }
   ],
   "source": [
    "from pandas.plotting import andrews_curves\n",
    "\n",
    "andrews_curves(dataset[3:12], 'Survived')\n",
    "\n",
    "plt.show()"
   ]
  },
  {
   "cell_type": "code",
   "execution_count": 517,
   "metadata": {},
   "outputs": [
    {
     "data": {
      "image/png": "[encoded data removed]",
      "text/plain": [
       "<Figure size 432x288 with 1 Axes>"
      ]
     },
     "metadata": {
      "needs_background": "light"
     },
     "output_type": "display_data"
    }
   ],
   "source": [
    "from pandas.plotting import parallel_coordinates\n",
    "\n",
    "parallel_coordinates(dataset[3:12], 'Survived')\n",
    "\n",
    "plt.show()"
   ]
  },
  {
   "cell_type": "markdown",
   "metadata": {},
   "source": [
    "Como se puede ver, no hay demasiadas diferencias usando estos dos métodos..."
   ]
  },
  {
   "cell_type": "markdown",
   "metadata": {},
   "source": [
    "Finalmente, voy a hacer una comparación de los clasificadores para ver cual ha sido mejor"
   ]
  },
  {
   "cell_type": "code",
   "execution_count": 518,
   "metadata": {},
   "outputs": [
    {
     "data": {
      "text/plain": [
       "{'tree': 0.7830508474576271,\n",
       " 'SGD': 0.6338983050847458,\n",
       " 'Ridge': 0.8169491525423729,\n",
       " 'KNN': 0.7457627118644068,\n",
       " 'RF': 0.8271186440677966,\n",
       " 'GB': 0.8203389830508474,\n",
       " 'Regresion': 0.36232419102476454}"
      ]
     },
     "execution_count": 518,
     "metadata": {},
     "output_type": "execute_result"
    }
   ],
   "source": [
    "precisiones"
   ]
  },
  {
   "cell_type": "markdown",
   "metadata": {},
   "source": [
    "Se puede observar que Gradient Boosting, junto con Ridge y Random Forest son los más precisos"
   ]
  },
  {
   "cell_type": "markdown",
   "metadata": {},
   "source": [
    "Comparación con el modelo Naive"
   ]
  },
  {
   "cell_type": "code",
   "execution_count": 519,
   "metadata": {},
   "outputs": [],
   "source": [
    "from sklearn.naive_bayes import GaussianNB\n",
    "\n",
    "gnb = GaussianNB()\n",
    "model_nb = gnb.fit(x_train, y_train)"
   ]
  },
  {
   "cell_type": "code",
   "execution_count": 520,
   "metadata": {},
   "outputs": [
    {
     "name": "stdout",
     "output_type": "stream",
     "text": [
      "Precisión de Naive sobre el entrenamiento: 0.79\n",
      "Precisión de Naive sobre el test: 0.81\n"
     ]
    }
   ],
   "source": [
    "print('Precisión de Naive sobre el entrenamiento: {:.2f}' .format(model_nb.score(x_train, y_train)))\n",
    "print('Precisión de Naive sobre el test: {:.2f}' .format(model_nb.score(x_test, y_test)))"
   ]
  },
  {
   "cell_type": "markdown",
   "metadata": {},
   "source": [
    "El modelo Naive Bayes está a la altura de Random Forest y Ridge"
   ]
  },
  {
   "cell_type": "code",
   "execution_count": 521,
   "metadata": {},
   "outputs": [],
   "source": [
    "precisiones['NB'] = model_nb.score(x_test, y_test)"
   ]
  },
  {
   "cell_type": "code",
   "execution_count": 522,
   "metadata": {},
   "outputs": [
    {
     "data": {
      "text/plain": [
       "{'tree': 0.7830508474576271,\n",
       " 'SGD': 0.6338983050847458,\n",
       " 'Ridge': 0.8169491525423729,\n",
       " 'KNN': 0.7457627118644068,\n",
       " 'RF': 0.8271186440677966,\n",
       " 'GB': 0.8203389830508474,\n",
       " 'Regresion': 0.36232419102476454,\n",
       " 'NB': 0.8135593220338984}"
      ]
     },
     "execution_count": 522,
     "metadata": {},
     "output_type": "execute_result"
    }
   ],
   "source": [
    "precisiones"
   ]
  },
  {
   "cell_type": "markdown",
   "metadata": {},
   "source": [
    "Resultado final:\n",
    "    1) Gradient Boosting\n",
    "    2) Ridge Classifier\n",
    "    3) Random Forest y Naive Bayes\n",
    "    4) Tree Classifier\n",
    "    5) KNN (k = 5)\n",
    "    6) SGD"
   ]
  },
  {
   "cell_type": "code",
   "execution_count": null,
   "metadata": {},
   "outputs": [],
   "source": []
  }
 ],
 "metadata": {
  "kernelspec": {
   "display_name": "Python 3",
   "language": "python",
   "name": "python3"
  },
  "language_info": {
   "codemirror_mode": {
    "name": "ipython",
    "version": 3
   },
   "file_extension": ".py",
   "mimetype": "text/x-python",
   "name": "python",
   "nbconvert_exporter": "python",
   "pygments_lexer": "ipython3",
   "version": "3.7.1"
  }
 },
 "nbformat": 4,
 "nbformat_minor": 2
}
